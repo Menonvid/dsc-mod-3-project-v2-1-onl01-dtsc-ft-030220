{
 "cells": [
  {
   "cell_type": "markdown",
   "metadata": {
    "toc": true
   },
   "source": [
    "<h1>Table of Contents<span class=\"tocSkip\"></span></h1>\n",
    "<div class=\"toc\"><ul class=\"toc-item\"></ul></div>"
   ]
  },
  {
   "cell_type": "code",
   "execution_count": 1,
   "metadata": {},
   "outputs": [
    {
     "name": "stderr",
     "output_type": "stream",
     "text": [
      "\n",
      "Bad key \"text.kerning_factor\" on line 4 in\n",
      "C:\\Users\\Vidya\\Anaconda3\\envs\\learn-env\\lib\\site-packages\\matplotlib\\mpl-data\\stylelib\\_classic_test_patch.mplstyle.\n",
      "You probably need to get an updated matplotlibrc file from\n",
      "https://github.com/matplotlib/matplotlib/blob/v3.1.3/matplotlibrc.template\n",
      "or from the matplotlib source distribution\n"
     ]
    }
   ],
   "source": [
    "# Importing the libraries\n",
    "import pandas as pd\n",
    "import numpy as np\n",
    "\n",
    "from scipy import stats\n",
    "import math\n",
    "\n",
    "#Visual/Graphs\n",
    "import matplotlib.pyplot as plt\n",
    "%matplotlib inline\n",
    "import seaborn as sns\n",
    "plt.style.use('seaborn')\n",
    "\n",
    "#Sklearn\n",
    "from sklearn.ensemble import RandomForestClassifier\n",
    "from sklearn.linear_model import LogisticRegression\n",
    "from sklearn.neighbors import KNeighborsClassifier as KNN\n",
    "from sklearn.preprocessing import LabelEncoder\n",
    "from sklearn.preprocessing import StandardScaler\n",
    "from sklearn.model_selection import train_test_split\n",
    "from sklearn.model_selection import cross_val_score\n",
    "from sklearn.model_selection import StratifiedShuffleSplit\n",
    "from sklearn.decomposition import PCA\n",
    "from sklearn.linear_model import LogisticRegression\n",
    "from sklearn.metrics import accuracy_score\n",
    "from sklearn import metrics\n",
    "from sklearn.metrics import roc_curve, auc\n",
    "from sklearn.model_selection import GridSearchCV\n",
    "from sklearn.model_selection import RandomizedSearchCV\n",
    "from sklearn.svm import SVC\n",
    "from sklearn.tree import DecisionTreeClassifier\n",
    "from sklearn.metrics import classification_report, accuracy_score, roc_auc_score\n",
    "\n",
    "from IPython.core.interactiveshell import InteractiveShell\n",
    "InteractiveShell.ast_node_interactivity = \"all\"\n",
    "\n",
    "#Import warnings\n",
    "import warnings\n",
    "warnings.filterwarnings(\"ignore\")"
   ]
  },
  {
   "cell_type": "code",
   "execution_count": 2,
   "metadata": {},
   "outputs": [],
   "source": [
    "df1 = pd.read_csv('target.csv') # the target class dataset\n",
    "df2 = pd.read_csv('Pred.csv') # all our features dataset"
   ]
  },
  {
   "cell_type": "code",
   "execution_count": 3,
   "metadata": {},
   "outputs": [
    {
     "data": {
      "text/html": [
       "<div>\n",
       "<style scoped>\n",
       "    .dataframe tbody tr th:only-of-type {\n",
       "        vertical-align: middle;\n",
       "    }\n",
       "\n",
       "    .dataframe tbody tr th {\n",
       "        vertical-align: top;\n",
       "    }\n",
       "\n",
       "    .dataframe thead th {\n",
       "        text-align: right;\n",
       "    }\n",
       "</style>\n",
       "<table border=\"1\" class=\"dataframe\">\n",
       "  <thead>\n",
       "    <tr style=\"text-align: right;\">\n",
       "      <th></th>\n",
       "      <th>id</th>\n",
       "      <th>status_group</th>\n",
       "    </tr>\n",
       "  </thead>\n",
       "  <tbody>\n",
       "    <tr>\n",
       "      <td>0</td>\n",
       "      <td>69572</td>\n",
       "      <td>functional</td>\n",
       "    </tr>\n",
       "    <tr>\n",
       "      <td>1</td>\n",
       "      <td>8776</td>\n",
       "      <td>functional</td>\n",
       "    </tr>\n",
       "    <tr>\n",
       "      <td>2</td>\n",
       "      <td>34310</td>\n",
       "      <td>functional</td>\n",
       "    </tr>\n",
       "    <tr>\n",
       "      <td>3</td>\n",
       "      <td>67743</td>\n",
       "      <td>non functional</td>\n",
       "    </tr>\n",
       "    <tr>\n",
       "      <td>4</td>\n",
       "      <td>19728</td>\n",
       "      <td>functional</td>\n",
       "    </tr>\n",
       "  </tbody>\n",
       "</table>\n",
       "</div>"
      ],
      "text/plain": [
       "      id    status_group\n",
       "0  69572      functional\n",
       "1   8776      functional\n",
       "2  34310      functional\n",
       "3  67743  non functional\n",
       "4  19728      functional"
      ]
     },
     "execution_count": 3,
     "metadata": {},
     "output_type": "execute_result"
    },
    {
     "data": {
      "text/html": [
       "<div>\n",
       "<style scoped>\n",
       "    .dataframe tbody tr th:only-of-type {\n",
       "        vertical-align: middle;\n",
       "    }\n",
       "\n",
       "    .dataframe tbody tr th {\n",
       "        vertical-align: top;\n",
       "    }\n",
       "\n",
       "    .dataframe thead th {\n",
       "        text-align: right;\n",
       "    }\n",
       "</style>\n",
       "<table border=\"1\" class=\"dataframe\">\n",
       "  <thead>\n",
       "    <tr style=\"text-align: right;\">\n",
       "      <th></th>\n",
       "      <th>id</th>\n",
       "      <th>amount_tsh</th>\n",
       "      <th>date_recorded</th>\n",
       "      <th>funder</th>\n",
       "      <th>gps_height</th>\n",
       "      <th>installer</th>\n",
       "      <th>longitude</th>\n",
       "      <th>latitude</th>\n",
       "      <th>wpt_name</th>\n",
       "      <th>num_private</th>\n",
       "      <th>...</th>\n",
       "      <th>payment_type</th>\n",
       "      <th>water_quality</th>\n",
       "      <th>quality_group</th>\n",
       "      <th>quantity</th>\n",
       "      <th>quantity_group</th>\n",
       "      <th>source</th>\n",
       "      <th>source_type</th>\n",
       "      <th>source_class</th>\n",
       "      <th>waterpoint_type</th>\n",
       "      <th>waterpoint_type_group</th>\n",
       "    </tr>\n",
       "  </thead>\n",
       "  <tbody>\n",
       "    <tr>\n",
       "      <td>0</td>\n",
       "      <td>69572</td>\n",
       "      <td>6000.0</td>\n",
       "      <td>2011-03-14</td>\n",
       "      <td>Roman</td>\n",
       "      <td>1390</td>\n",
       "      <td>Roman</td>\n",
       "      <td>34.938093</td>\n",
       "      <td>-9.856322</td>\n",
       "      <td>none</td>\n",
       "      <td>0</td>\n",
       "      <td>...</td>\n",
       "      <td>annually</td>\n",
       "      <td>soft</td>\n",
       "      <td>good</td>\n",
       "      <td>enough</td>\n",
       "      <td>enough</td>\n",
       "      <td>spring</td>\n",
       "      <td>spring</td>\n",
       "      <td>groundwater</td>\n",
       "      <td>communal standpipe</td>\n",
       "      <td>communal standpipe</td>\n",
       "    </tr>\n",
       "    <tr>\n",
       "      <td>1</td>\n",
       "      <td>8776</td>\n",
       "      <td>0.0</td>\n",
       "      <td>2013-03-06</td>\n",
       "      <td>Grumeti</td>\n",
       "      <td>1399</td>\n",
       "      <td>GRUMETI</td>\n",
       "      <td>34.698766</td>\n",
       "      <td>-2.147466</td>\n",
       "      <td>Zahanati</td>\n",
       "      <td>0</td>\n",
       "      <td>...</td>\n",
       "      <td>never pay</td>\n",
       "      <td>soft</td>\n",
       "      <td>good</td>\n",
       "      <td>insufficient</td>\n",
       "      <td>insufficient</td>\n",
       "      <td>rainwater harvesting</td>\n",
       "      <td>rainwater harvesting</td>\n",
       "      <td>surface</td>\n",
       "      <td>communal standpipe</td>\n",
       "      <td>communal standpipe</td>\n",
       "    </tr>\n",
       "    <tr>\n",
       "      <td>2</td>\n",
       "      <td>34310</td>\n",
       "      <td>25.0</td>\n",
       "      <td>2013-02-25</td>\n",
       "      <td>Lottery Club</td>\n",
       "      <td>686</td>\n",
       "      <td>World vision</td>\n",
       "      <td>37.460664</td>\n",
       "      <td>-3.821329</td>\n",
       "      <td>Kwa Mahundi</td>\n",
       "      <td>0</td>\n",
       "      <td>...</td>\n",
       "      <td>per bucket</td>\n",
       "      <td>soft</td>\n",
       "      <td>good</td>\n",
       "      <td>enough</td>\n",
       "      <td>enough</td>\n",
       "      <td>dam</td>\n",
       "      <td>dam</td>\n",
       "      <td>surface</td>\n",
       "      <td>communal standpipe multiple</td>\n",
       "      <td>communal standpipe</td>\n",
       "    </tr>\n",
       "    <tr>\n",
       "      <td>3</td>\n",
       "      <td>67743</td>\n",
       "      <td>0.0</td>\n",
       "      <td>2013-01-28</td>\n",
       "      <td>Unicef</td>\n",
       "      <td>263</td>\n",
       "      <td>UNICEF</td>\n",
       "      <td>38.486161</td>\n",
       "      <td>-11.155298</td>\n",
       "      <td>Zahanati Ya Nanyumbu</td>\n",
       "      <td>0</td>\n",
       "      <td>...</td>\n",
       "      <td>never pay</td>\n",
       "      <td>soft</td>\n",
       "      <td>good</td>\n",
       "      <td>dry</td>\n",
       "      <td>dry</td>\n",
       "      <td>machine dbh</td>\n",
       "      <td>borehole</td>\n",
       "      <td>groundwater</td>\n",
       "      <td>communal standpipe multiple</td>\n",
       "      <td>communal standpipe</td>\n",
       "    </tr>\n",
       "    <tr>\n",
       "      <td>4</td>\n",
       "      <td>19728</td>\n",
       "      <td>0.0</td>\n",
       "      <td>2011-07-13</td>\n",
       "      <td>Action In A</td>\n",
       "      <td>0</td>\n",
       "      <td>Artisan</td>\n",
       "      <td>31.130847</td>\n",
       "      <td>-1.825359</td>\n",
       "      <td>Shuleni</td>\n",
       "      <td>0</td>\n",
       "      <td>...</td>\n",
       "      <td>never pay</td>\n",
       "      <td>soft</td>\n",
       "      <td>good</td>\n",
       "      <td>seasonal</td>\n",
       "      <td>seasonal</td>\n",
       "      <td>rainwater harvesting</td>\n",
       "      <td>rainwater harvesting</td>\n",
       "      <td>surface</td>\n",
       "      <td>communal standpipe</td>\n",
       "      <td>communal standpipe</td>\n",
       "    </tr>\n",
       "  </tbody>\n",
       "</table>\n",
       "<p>5 rows × 40 columns</p>\n",
       "</div>"
      ],
      "text/plain": [
       "      id  amount_tsh date_recorded        funder  gps_height     installer  \\\n",
       "0  69572      6000.0    2011-03-14         Roman        1390         Roman   \n",
       "1   8776         0.0    2013-03-06       Grumeti        1399       GRUMETI   \n",
       "2  34310        25.0    2013-02-25  Lottery Club         686  World vision   \n",
       "3  67743         0.0    2013-01-28        Unicef         263        UNICEF   \n",
       "4  19728         0.0    2011-07-13   Action In A           0       Artisan   \n",
       "\n",
       "   longitude   latitude              wpt_name  num_private  ... payment_type  \\\n",
       "0  34.938093  -9.856322                  none            0  ...     annually   \n",
       "1  34.698766  -2.147466              Zahanati            0  ...    never pay   \n",
       "2  37.460664  -3.821329           Kwa Mahundi            0  ...   per bucket   \n",
       "3  38.486161 -11.155298  Zahanati Ya Nanyumbu            0  ...    never pay   \n",
       "4  31.130847  -1.825359               Shuleni            0  ...    never pay   \n",
       "\n",
       "  water_quality quality_group      quantity  quantity_group  \\\n",
       "0          soft          good        enough          enough   \n",
       "1          soft          good  insufficient    insufficient   \n",
       "2          soft          good        enough          enough   \n",
       "3          soft          good           dry             dry   \n",
       "4          soft          good      seasonal        seasonal   \n",
       "\n",
       "                 source           source_type  source_class  \\\n",
       "0                spring                spring   groundwater   \n",
       "1  rainwater harvesting  rainwater harvesting       surface   \n",
       "2                   dam                   dam       surface   \n",
       "3           machine dbh              borehole   groundwater   \n",
       "4  rainwater harvesting  rainwater harvesting       surface   \n",
       "\n",
       "               waterpoint_type waterpoint_type_group  \n",
       "0           communal standpipe    communal standpipe  \n",
       "1           communal standpipe    communal standpipe  \n",
       "2  communal standpipe multiple    communal standpipe  \n",
       "3  communal standpipe multiple    communal standpipe  \n",
       "4           communal standpipe    communal standpipe  \n",
       "\n",
       "[5 rows x 40 columns]"
      ]
     },
     "execution_count": 3,
     "metadata": {},
     "output_type": "execute_result"
    }
   ],
   "source": [
    "df1.head()\n",
    "df2.head()"
   ]
  },
  {
   "cell_type": "code",
   "execution_count": 4,
   "metadata": {},
   "outputs": [
    {
     "data": {
      "text/html": [
       "<div>\n",
       "<style scoped>\n",
       "    .dataframe tbody tr th:only-of-type {\n",
       "        vertical-align: middle;\n",
       "    }\n",
       "\n",
       "    .dataframe tbody tr th {\n",
       "        vertical-align: top;\n",
       "    }\n",
       "\n",
       "    .dataframe thead th {\n",
       "        text-align: right;\n",
       "    }\n",
       "</style>\n",
       "<table border=\"1\" class=\"dataframe\">\n",
       "  <thead>\n",
       "    <tr style=\"text-align: right;\">\n",
       "      <th></th>\n",
       "      <th>id</th>\n",
       "      <th>status_group</th>\n",
       "      <th>amount_tsh</th>\n",
       "      <th>date_recorded</th>\n",
       "      <th>funder</th>\n",
       "      <th>gps_height</th>\n",
       "      <th>installer</th>\n",
       "      <th>longitude</th>\n",
       "      <th>latitude</th>\n",
       "      <th>wpt_name</th>\n",
       "      <th>...</th>\n",
       "      <th>payment_type</th>\n",
       "      <th>water_quality</th>\n",
       "      <th>quality_group</th>\n",
       "      <th>quantity</th>\n",
       "      <th>quantity_group</th>\n",
       "      <th>source</th>\n",
       "      <th>source_type</th>\n",
       "      <th>source_class</th>\n",
       "      <th>waterpoint_type</th>\n",
       "      <th>waterpoint_type_group</th>\n",
       "    </tr>\n",
       "  </thead>\n",
       "  <tbody>\n",
       "    <tr>\n",
       "      <td>0</td>\n",
       "      <td>69572</td>\n",
       "      <td>functional</td>\n",
       "      <td>6000.0</td>\n",
       "      <td>2011-03-14</td>\n",
       "      <td>Roman</td>\n",
       "      <td>1390</td>\n",
       "      <td>Roman</td>\n",
       "      <td>34.938093</td>\n",
       "      <td>-9.856322</td>\n",
       "      <td>none</td>\n",
       "      <td>...</td>\n",
       "      <td>annually</td>\n",
       "      <td>soft</td>\n",
       "      <td>good</td>\n",
       "      <td>enough</td>\n",
       "      <td>enough</td>\n",
       "      <td>spring</td>\n",
       "      <td>spring</td>\n",
       "      <td>groundwater</td>\n",
       "      <td>communal standpipe</td>\n",
       "      <td>communal standpipe</td>\n",
       "    </tr>\n",
       "    <tr>\n",
       "      <td>1</td>\n",
       "      <td>8776</td>\n",
       "      <td>functional</td>\n",
       "      <td>0.0</td>\n",
       "      <td>2013-03-06</td>\n",
       "      <td>Grumeti</td>\n",
       "      <td>1399</td>\n",
       "      <td>GRUMETI</td>\n",
       "      <td>34.698766</td>\n",
       "      <td>-2.147466</td>\n",
       "      <td>Zahanati</td>\n",
       "      <td>...</td>\n",
       "      <td>never pay</td>\n",
       "      <td>soft</td>\n",
       "      <td>good</td>\n",
       "      <td>insufficient</td>\n",
       "      <td>insufficient</td>\n",
       "      <td>rainwater harvesting</td>\n",
       "      <td>rainwater harvesting</td>\n",
       "      <td>surface</td>\n",
       "      <td>communal standpipe</td>\n",
       "      <td>communal standpipe</td>\n",
       "    </tr>\n",
       "    <tr>\n",
       "      <td>2</td>\n",
       "      <td>34310</td>\n",
       "      <td>functional</td>\n",
       "      <td>25.0</td>\n",
       "      <td>2013-02-25</td>\n",
       "      <td>Lottery Club</td>\n",
       "      <td>686</td>\n",
       "      <td>World vision</td>\n",
       "      <td>37.460664</td>\n",
       "      <td>-3.821329</td>\n",
       "      <td>Kwa Mahundi</td>\n",
       "      <td>...</td>\n",
       "      <td>per bucket</td>\n",
       "      <td>soft</td>\n",
       "      <td>good</td>\n",
       "      <td>enough</td>\n",
       "      <td>enough</td>\n",
       "      <td>dam</td>\n",
       "      <td>dam</td>\n",
       "      <td>surface</td>\n",
       "      <td>communal standpipe multiple</td>\n",
       "      <td>communal standpipe</td>\n",
       "    </tr>\n",
       "    <tr>\n",
       "      <td>3</td>\n",
       "      <td>67743</td>\n",
       "      <td>non functional</td>\n",
       "      <td>0.0</td>\n",
       "      <td>2013-01-28</td>\n",
       "      <td>Unicef</td>\n",
       "      <td>263</td>\n",
       "      <td>UNICEF</td>\n",
       "      <td>38.486161</td>\n",
       "      <td>-11.155298</td>\n",
       "      <td>Zahanati Ya Nanyumbu</td>\n",
       "      <td>...</td>\n",
       "      <td>never pay</td>\n",
       "      <td>soft</td>\n",
       "      <td>good</td>\n",
       "      <td>dry</td>\n",
       "      <td>dry</td>\n",
       "      <td>machine dbh</td>\n",
       "      <td>borehole</td>\n",
       "      <td>groundwater</td>\n",
       "      <td>communal standpipe multiple</td>\n",
       "      <td>communal standpipe</td>\n",
       "    </tr>\n",
       "    <tr>\n",
       "      <td>4</td>\n",
       "      <td>19728</td>\n",
       "      <td>functional</td>\n",
       "      <td>0.0</td>\n",
       "      <td>2011-07-13</td>\n",
       "      <td>Action In A</td>\n",
       "      <td>0</td>\n",
       "      <td>Artisan</td>\n",
       "      <td>31.130847</td>\n",
       "      <td>-1.825359</td>\n",
       "      <td>Shuleni</td>\n",
       "      <td>...</td>\n",
       "      <td>never pay</td>\n",
       "      <td>soft</td>\n",
       "      <td>good</td>\n",
       "      <td>seasonal</td>\n",
       "      <td>seasonal</td>\n",
       "      <td>rainwater harvesting</td>\n",
       "      <td>rainwater harvesting</td>\n",
       "      <td>surface</td>\n",
       "      <td>communal standpipe</td>\n",
       "      <td>communal standpipe</td>\n",
       "    </tr>\n",
       "  </tbody>\n",
       "</table>\n",
       "<p>5 rows × 41 columns</p>\n",
       "</div>"
      ],
      "text/plain": [
       "      id    status_group  amount_tsh date_recorded        funder  gps_height  \\\n",
       "0  69572      functional      6000.0    2011-03-14         Roman        1390   \n",
       "1   8776      functional         0.0    2013-03-06       Grumeti        1399   \n",
       "2  34310      functional        25.0    2013-02-25  Lottery Club         686   \n",
       "3  67743  non functional         0.0    2013-01-28        Unicef         263   \n",
       "4  19728      functional         0.0    2011-07-13   Action In A           0   \n",
       "\n",
       "      installer  longitude   latitude              wpt_name  ...  \\\n",
       "0         Roman  34.938093  -9.856322                  none  ...   \n",
       "1       GRUMETI  34.698766  -2.147466              Zahanati  ...   \n",
       "2  World vision  37.460664  -3.821329           Kwa Mahundi  ...   \n",
       "3        UNICEF  38.486161 -11.155298  Zahanati Ya Nanyumbu  ...   \n",
       "4       Artisan  31.130847  -1.825359               Shuleni  ...   \n",
       "\n",
       "   payment_type water_quality quality_group      quantity  quantity_group  \\\n",
       "0      annually          soft          good        enough          enough   \n",
       "1     never pay          soft          good  insufficient    insufficient   \n",
       "2    per bucket          soft          good        enough          enough   \n",
       "3     never pay          soft          good           dry             dry   \n",
       "4     never pay          soft          good      seasonal        seasonal   \n",
       "\n",
       "                 source           source_type source_class  \\\n",
       "0                spring                spring  groundwater   \n",
       "1  rainwater harvesting  rainwater harvesting      surface   \n",
       "2                   dam                   dam      surface   \n",
       "3           machine dbh              borehole  groundwater   \n",
       "4  rainwater harvesting  rainwater harvesting      surface   \n",
       "\n",
       "               waterpoint_type waterpoint_type_group  \n",
       "0           communal standpipe    communal standpipe  \n",
       "1           communal standpipe    communal standpipe  \n",
       "2  communal standpipe multiple    communal standpipe  \n",
       "3  communal standpipe multiple    communal standpipe  \n",
       "4           communal standpipe    communal standpipe  \n",
       "\n",
       "[5 rows x 41 columns]"
      ]
     },
     "execution_count": 4,
     "metadata": {},
     "output_type": "execute_result"
    }
   ],
   "source": [
    "# Merging the files together\n",
    "data = pd.merge(df1, df2, on='id', how='inner')\n",
    "data.head()"
   ]
  },
  {
   "cell_type": "code",
   "execution_count": 5,
   "metadata": {},
   "outputs": [
    {
     "name": "stdout",
     "output_type": "stream",
     "text": [
      "<class 'pandas.core.frame.DataFrame'>\n",
      "Int64Index: 59400 entries, 0 to 59399\n",
      "Data columns (total 41 columns):\n",
      "id                       59400 non-null int64\n",
      "status_group             59400 non-null object\n",
      "amount_tsh               59400 non-null float64\n",
      "date_recorded            59400 non-null object\n",
      "funder                   55765 non-null object\n",
      "gps_height               59400 non-null int64\n",
      "installer                55745 non-null object\n",
      "longitude                59400 non-null float64\n",
      "latitude                 59400 non-null float64\n",
      "wpt_name                 59400 non-null object\n",
      "num_private              59400 non-null int64\n",
      "basin                    59400 non-null object\n",
      "subvillage               59029 non-null object\n",
      "region                   59400 non-null object\n",
      "region_code              59400 non-null int64\n",
      "district_code            59400 non-null int64\n",
      "lga                      59400 non-null object\n",
      "ward                     59400 non-null object\n",
      "population               59400 non-null int64\n",
      "public_meeting           56066 non-null object\n",
      "recorded_by              59400 non-null object\n",
      "scheme_management        55523 non-null object\n",
      "scheme_name              31234 non-null object\n",
      "permit                   56344 non-null object\n",
      "construction_year        59400 non-null int64\n",
      "extraction_type          59400 non-null object\n",
      "extraction_type_group    59400 non-null object\n",
      "extraction_type_class    59400 non-null object\n",
      "management               59400 non-null object\n",
      "management_group         59400 non-null object\n",
      "payment                  59400 non-null object\n",
      "payment_type             59400 non-null object\n",
      "water_quality            59400 non-null object\n",
      "quality_group            59400 non-null object\n",
      "quantity                 59400 non-null object\n",
      "quantity_group           59400 non-null object\n",
      "source                   59400 non-null object\n",
      "source_type              59400 non-null object\n",
      "source_class             59400 non-null object\n",
      "waterpoint_type          59400 non-null object\n",
      "waterpoint_type_group    59400 non-null object\n",
      "dtypes: float64(3), int64(7), object(31)\n",
      "memory usage: 19.0+ MB\n"
     ]
    }
   ],
   "source": [
    "data.info()"
   ]
  },
  {
   "cell_type": "code",
   "execution_count": 6,
   "metadata": {},
   "outputs": [
    {
     "data": {
      "text/plain": [
       "id                           0\n",
       "status_group                 0\n",
       "amount_tsh                   0\n",
       "date_recorded                0\n",
       "funder                    3635\n",
       "gps_height                   0\n",
       "installer                 3655\n",
       "longitude                    0\n",
       "latitude                     0\n",
       "wpt_name                     0\n",
       "num_private                  0\n",
       "basin                        0\n",
       "subvillage                 371\n",
       "region                       0\n",
       "region_code                  0\n",
       "district_code                0\n",
       "lga                          0\n",
       "ward                         0\n",
       "population                   0\n",
       "public_meeting            3334\n",
       "recorded_by                  0\n",
       "scheme_management         3877\n",
       "scheme_name              28166\n",
       "permit                    3056\n",
       "construction_year            0\n",
       "extraction_type              0\n",
       "extraction_type_group        0\n",
       "extraction_type_class        0\n",
       "management                   0\n",
       "management_group             0\n",
       "payment                      0\n",
       "payment_type                 0\n",
       "water_quality                0\n",
       "quality_group                0\n",
       "quantity                     0\n",
       "quantity_group               0\n",
       "source                       0\n",
       "source_type                  0\n",
       "source_class                 0\n",
       "waterpoint_type              0\n",
       "waterpoint_type_group        0\n",
       "dtype: int64"
      ]
     },
     "execution_count": 6,
     "metadata": {},
     "output_type": "execute_result"
    }
   ],
   "source": [
    "data.isna().sum() #returns the number of missing values in each column"
   ]
  },
  {
   "cell_type": "code",
   "execution_count": 7,
   "metadata": {},
   "outputs": [
    {
     "data": {
      "text/plain": [
       "array(['Roman', nan, 'Nyumba ya mungu pipe scheme', ..., 'BL Nsherehehe',\n",
       "       'Magati  gravity spri', 'Mtawanya'], dtype=object)"
      ]
     },
     "execution_count": 7,
     "metadata": {},
     "output_type": "execute_result"
    }
   ],
   "source": [
    "data['scheme_name'].unique()"
   ]
  },
  {
   "cell_type": "code",
   "execution_count": 8,
   "metadata": {},
   "outputs": [
    {
     "data": {
      "text/plain": [
       "array(['VWC', 'Other', nan, 'Private operator', 'WUG', 'Water Board',\n",
       "       'WUA', 'Water authority', 'Company', 'Parastatal', 'Trust', 'SWC',\n",
       "       'None'], dtype=object)"
      ]
     },
     "execution_count": 8,
     "metadata": {},
     "output_type": "execute_result"
    }
   ],
   "source": [
    "data['scheme_management'].unique()"
   ]
  },
  {
   "cell_type": "markdown",
   "metadata": {},
   "source": [
    "Dodoma and Singida are particularly dry and as a result, groundwater is one of the major sources and is\n",
    "vital in the dry season. \n",
    "Mpwapwa region is more mountainous and as a result water table depth is variable but the large\n",
    "number of natural springs has meant that gravity systems that pipe spring water from the source into\n",
    "villages are common\n",
    "\n",
    "VWC - Village Water Committee -Village Water Committee – Initiated as a formalised water point management structure \n",
    "in the 1991 Water Policy, these bodies continue to exist in all villages visited in Dodoma (although not in\n",
    "Singida) as a regulatory body with elected membership. They are effectively the default\n",
    "management framework across the three regions.\n",
    "\n",
    "WUA - Water User Association – A legal entity autonomous from village government that oversees the\n",
    "management of an entire extraction system. The WUA has its own fund which functions as the\n",
    "village water fund. Officially, it will have authority over the Water User Groups (WUGs) using the\n",
    "water source. \n",
    "\n",
    "WUG - Water User Group – These are the sub-village level management groups that are responsible for\n",
    "operation and maintenance of specific DPs within a WUA. In practice, sub-villages do not always\n",
    "create WUGs so management will revert to the WUA. Has its own bank account to fund small\n",
    "repairs and regular maintenance. \n",
    "\n",
    "Company – A legal entity sometimes under contract. \n",
    "\n",
    "Government – Only very few of these type exist and they are almost exclusively in Iramba district,\n",
    "Singida.\n",
    "\n"
   ]
  },
  {
   "cell_type": "code",
   "execution_count": 9,
   "metadata": {},
   "outputs": [
    {
     "data": {
      "text/plain": [
       "functional                 32259\n",
       "non functional             22824\n",
       "functional needs repair     4317\n",
       "Name: status_group, dtype: int64"
      ]
     },
     "execution_count": 9,
     "metadata": {},
     "output_type": "execute_result"
    }
   ],
   "source": [
    "data['status_group'].value_counts()"
   ]
  },
  {
   "cell_type": "code",
   "execution_count": 10,
   "metadata": {},
   "outputs": [
    {
     "data": {
      "image/png": "[encoded data removed]",
      "text/plain": [
       "<Figure size 720x360 with 1 Axes>"
      ]
     },
     "metadata": {},
     "output_type": "display_data"
    }
   ],
   "source": [
    "#Waterpump vs the Payment\n",
    "payment_df = data.groupby('scheme_management')['status_group'].value_counts(ascending=True).unstack()\n",
    "payment_df.plot(kind='bar', figsize=(10,5))\n",
    "plt.xlabel(\"Scheme Management\",fontweight='bold')\n",
    "plt.xticks(rotation=45)\n",
    "#plt.yticks([])\n",
    "plt.ylabel(\"Pump Functionality Count\",fontweight='bold')\n",
    "plt.title('Water Pump Functionality based on Management', fontsize=14, fontweight='bold')\n",
    "plt.legend(bbox_to_anchor=(1.0, 1.0), title='Pump Functionality');"
   ]
  },
  {
   "cell_type": "code",
   "execution_count": 11,
   "metadata": {},
   "outputs": [
    {
     "data": {
      "text/plain": [
       "0.0         41639\n",
       "500.0        3102\n",
       "50.0         2472\n",
       "1000.0       1488\n",
       "20.0         1463\n",
       "            ...  \n",
       "8500.0          1\n",
       "6300.0          1\n",
       "220.0           1\n",
       "138000.0        1\n",
       "12.0            1\n",
       "Name: amount_tsh, Length: 98, dtype: int64"
      ]
     },
     "execution_count": 11,
     "metadata": {},
     "output_type": "execute_result"
    },
    {
     "data": {
      "text/plain": [
       " 0       20438\n",
       "-15         60\n",
       "-16         55\n",
       "-13         55\n",
       "-20         52\n",
       "         ...  \n",
       " 2285        1\n",
       " 2424        1\n",
       " 2552        1\n",
       " 2413        1\n",
       " 2385        1\n",
       "Name: gps_height, Length: 2428, dtype: int64"
      ]
     },
     "execution_count": 11,
     "metadata": {},
     "output_type": "execute_result"
    }
   ],
   "source": [
    "data['amount_tsh'].value_counts()\n",
    "data['gps_height'].value_counts()"
   ]
  },
  {
   "cell_type": "markdown",
   "metadata": {},
   "source": [
    "__Numeric Variables__  \n",
    "__Numeric Variables--------Comments__  \n",
    "amount_tsh 41,639 of 59,400 records = “0”  \n",
    "gps_height 20,438 of 59,400 records = “0”  \n",
    "population 21,381 of 59.400 records = “0”  \n",
    "longitude  1,812 zero values: likely invalid  \n",
    "latitude   1,819 values < -1: likely invalid  \n",
    "num_private 58,643 of 59.400 records = “0”"
   ]
  },
  {
   "cell_type": "code",
   "execution_count": 12,
   "metadata": {},
   "outputs": [
    {
     "data": {
      "text/plain": [
       "757"
      ]
     },
     "execution_count": 12,
     "metadata": {},
     "output_type": "execute_result"
    },
    {
     "data": {
      "text/plain": [
       "array(['Lake Nyasa', 'Lake Victoria', 'Pangani',\n",
       "       'Ruvuma / Southern Coast', 'Internal', 'Lake Tanganyika',\n",
       "       'Wami / Ruvu', 'Rufiji', 'Lake Rukwa'], dtype=object)"
      ]
     },
     "execution_count": 12,
     "metadata": {},
     "output_type": "execute_result"
    }
   ],
   "source": [
    "np.count_nonzero(data['num_private'])\n",
    "data['basin'].unique()"
   ]
  },
  {
   "cell_type": "markdown",
   "metadata": {},
   "source": [
    "Categorical Variables  \n",
    "__funder__ has 1898 distinct values and  3635  NA's  \n",
    "\n",
    "__installer__ has 2146 distinct values 3655 NA’s  \n",
    "\n",
    "__wpt_name__ has 374000 distinct values 0 NA's and 3563 vals = “none” \n",
    "\n",
    "__basin__ has 9 distinct values  0 NA's  \n",
    "\n",
    "__subvillage__ has 19288 distinct values 371 NA's  \n",
    "\n",
    "__region__ has 21 distinct values \t0 NA's  \n",
    "\n",
    "__region_code__ has 27 distinct values\t0 NA's  \n",
    "\n",
    "__district_code__ has 20 distinct values\t0\tNA's  \n",
    "\n",
    "__lga__ has 125 distinct values  0 NA's  \n",
    "\n",
    "__ward__\t2092 distinct values 0 NA's  \n",
    "\n",
    "__public_meeting__ 3 distinct values 3334 binary + NA’s  \n",
    "\n",
    "__scheme_management__\t13 distinct values\t3877\t\n",
    "\n",
    "__scheme_name__\t2697 distinct values\t28166\t\n",
    "\n",
    "__permit__\t3 distinct values\t3056\tbinary + NA’s\n",
    "\n",
    "__construction_year__\t55 distinct values\t20709\tNA's\n",
    "\n",
    "__extraction_type__\t18 distinct values\t0\t\n",
    "\n",
    "__extraction_type_group__\t13 distinct values\t0\t\n",
    "\n",
    "__extraction_type_class__\t7 distinct values\t0\t\n",
    "\n",
    "__management__\t12 distinct values\t0\t\n",
    "\n",
    "__management_group__\t5 distinct values\t0\t\n",
    "\n",
    "__payment__\t7 distinct values\t0\t\n",
    "\n",
    "__payment_type__\t7 distinct values\t0  \n",
    "\n",
    "__water_quality__\t8 distinct values\t0  \n",
    "\n",
    "__quality_group__\t6 distinct values\t0  \n",
    "\n",
    "__quantity__\t5 distinct values\t0  \n",
    "\n",
    "__quantity_group__\t5 distinct values\t0  \n",
    "\n",
    "__source__\t10 distinct values 0  \n",
    "\n",
    "__source_type__\t7 distinct values\t0  \n",
    "\n",
    "__source_class__\t3 distinct values\t0\tbinary + “unknown”  \n",
    "\n",
    "__waterpoint_type__\t7 distinct values 0  \n",
    "\n",
    "__waterpoint_type_group__\t6 distinct values 0 NA's"
   ]
  },
  {
   "cell_type": "code",
   "execution_count": 13,
   "metadata": {},
   "outputs": [],
   "source": [
    "# import pandas_profiling as pp\n",
    "# from pandas_profiling import ProfileReport\n",
    "\n",
    "# profile = ProfileReport(data,html= {'style': { 'full_width': True } })"
   ]
  },
  {
   "cell_type": "code",
   "execution_count": 14,
   "metadata": {},
   "outputs": [],
   "source": [
    "# profile.to_notebook_iframe()"
   ]
  },
  {
   "cell_type": "code",
   "execution_count": 15,
   "metadata": {
    "scrolled": true
   },
   "outputs": [
    {
     "data": {
      "image/png": "[encoded data removed]",
      "text/plain": [
       "<Figure size 576x360 with 1 Axes>"
      ]
     },
     "metadata": {},
     "output_type": "display_data"
    }
   ],
   "source": [
    "#Bar Graph for the status_group of Water Pump\n",
    "data['status_group'].value_counts(ascending=False).plot(kind='barh', figsize=(8,5), color=['darkgreen','midnightblue','brown'])\n",
    "plt.title(\"Water Pump Status\", fontweight='bold', fontsize=18)\n",
    "plt.xlabel('Value Counts',fontweight='bold',fontsize=10)\n",
    "plt.ylabel('Status of the Water Pump',fontweight='bold',fontsize=10);"
   ]
  },
  {
   "cell_type": "markdown",
   "metadata": {},
   "source": [
    "__We see that there is a lot of imbalance among our classes, hence we are combining \"functional needs repair\" and \n",
    "\"non functional\" into once__"
   ]
  },
  {
   "cell_type": "code",
   "execution_count": 16,
   "metadata": {},
   "outputs": [],
   "source": [
    "data['status_group'] = data['status_group'].replace(to_replace =[\"functional needs repair\", \"non functional\"],value =\"needs repair\")"
   ]
  },
  {
   "cell_type": "code",
   "execution_count": 17,
   "metadata": {},
   "outputs": [
    {
     "data": {
      "text/plain": [
       "functional      32259\n",
       "needs repair    27141\n",
       "Name: status_group, dtype: int64"
      ]
     },
     "execution_count": 17,
     "metadata": {},
     "output_type": "execute_result"
    }
   ],
   "source": [
    "data['status_group'].value_counts()"
   ]
  },
  {
   "cell_type": "markdown",
   "metadata": {},
   "source": [
    "__This is far better__"
   ]
  },
  {
   "cell_type": "code",
   "execution_count": 18,
   "metadata": {},
   "outputs": [
    {
     "data": {
      "image/png": "[encoded data removed]",
      "text/plain": [
       "<Figure size 720x360 with 1 Axes>"
      ]
     },
     "metadata": {},
     "output_type": "display_data"
    }
   ],
   "source": [
    "#Waterpump vs the Payment\n",
    "payment_df = data.groupby('payment_type')['status_group'].value_counts(ascending=True).unstack()\n",
    "payment_df.plot(kind='bar',  color=['darkgreen','midnightblue'], figsize=(10,5))\n",
    "plt.xlabel(\"Payment Type\",fontweight='bold')\n",
    "plt.xticks(rotation=0)\n",
    "#plt.yticks([])\n",
    "plt.ylabel(\"Pump Functionality Count\",fontweight='bold')\n",
    "plt.title('Water Pump Functionality based on Payment Type', fontsize=14, fontweight='bold')\n",
    "plt.legend(bbox_to_anchor=(1.0, 1.0), title='Pump Functionality');"
   ]
  },
  {
   "cell_type": "code",
   "execution_count": 19,
   "metadata": {},
   "outputs": [
    {
     "data": {
      "image/png": "[encoded data removed]",
      "text/plain": [
       "<Figure size 720x360 with 1 Axes>"
      ]
     },
     "metadata": {},
     "output_type": "display_data"
    }
   ],
   "source": [
    "#Waterpump functionality\n",
    "qty_df = data.groupby('quantity')['status_group'].value_counts(ascending=True).unstack()\n",
    "qty_df.plot(kind='bar', figsize=(10,5))\n",
    "plt.xlabel(\"Water Quantity\")\n",
    "plt.xticks(rotation=0)\n",
    "plt.ylabel(\"Pump Functionality Count\")\n",
    "plt.title('Water Pump Functionality based on Water Quantity', fontsize=14, fontweight='bold')\n",
    "plt.legend(bbox_to_anchor=(1.0, 1.0), title='Pump Functionality');"
   ]
  },
  {
   "cell_type": "code",
   "execution_count": 20,
   "metadata": {},
   "outputs": [
    {
     "data": {
      "image/png": "[encoded data removed]",
      "text/plain": [
       "<Figure size 720x360 with 1 Axes>"
      ]
     },
     "metadata": {},
     "output_type": "display_data"
    }
   ],
   "source": [
    "#Water Source\n",
    "source_df = data.groupby('source')['quantity'].value_counts(ascending=False).unstack()\n",
    "source_df.plot(kind='bar', figsize=(10,5))\n",
    "plt.xlabel(\"Water Source\")\n",
    "plt.xticks(rotation=45)\n",
    "plt.ylabel(\"Water Quantity\")\n",
    "plt.title('Water Quantity Based on Water Source', fontsize=14, fontweight='bold')\n",
    "plt.legend(bbox_to_anchor=(1.0, 1.0), title='Water Quantity');"
   ]
  },
  {
   "cell_type": "code",
   "execution_count": 21,
   "metadata": {},
   "outputs": [
    {
     "data": {
      "text/plain": [
       "0    32259\n",
       "1    27141\n",
       "Name: target, dtype: int64"
      ]
     },
     "execution_count": 21,
     "metadata": {},
     "output_type": "execute_result"
    }
   ],
   "source": [
    "data['status_group'] = data['status_group'].astype('category')\n",
    "data['target'] = data['status_group'].cat.codes\n",
    "data['target'].value_counts()"
   ]
  },
  {
   "cell_type": "code",
   "execution_count": 22,
   "metadata": {},
   "outputs": [
    {
     "data": {
      "image/png": "[encoded data removed]",
      "text/plain": [
       "<Figure size 576x396 with 1 Axes>"
      ]
     },
     "metadata": {},
     "output_type": "display_data"
    }
   ],
   "source": [
    "# definitely a strong relationship\n",
    "fig, ax = plt.subplots(1)\n",
    "sns.regplot(x='gps_height', y='target', data=data[(data['gps_height'] != 0)], ax=ax)\n",
    "ax.set_yticks([0, 1, 2])\n",
    "plt.title('Well Status and GPS Height', fontsize=14, fontweight='bold');"
   ]
  },
  {
   "cell_type": "code",
   "execution_count": 23,
   "metadata": {},
   "outputs": [
    {
     "data": {
      "text/html": [
       "<div>\n",
       "<style scoped>\n",
       "    .dataframe tbody tr th:only-of-type {\n",
       "        vertical-align: middle;\n",
       "    }\n",
       "\n",
       "    .dataframe tbody tr th {\n",
       "        vertical-align: top;\n",
       "    }\n",
       "\n",
       "    .dataframe thead th {\n",
       "        text-align: right;\n",
       "    }\n",
       "</style>\n",
       "<table border=\"1\" class=\"dataframe\">\n",
       "  <thead>\n",
       "    <tr style=\"text-align: right;\">\n",
       "      <th></th>\n",
       "      <th>id</th>\n",
       "      <th>status_group</th>\n",
       "      <th>amount_tsh</th>\n",
       "      <th>date_recorded</th>\n",
       "      <th>funder</th>\n",
       "      <th>gps_height</th>\n",
       "      <th>installer</th>\n",
       "      <th>longitude</th>\n",
       "      <th>latitude</th>\n",
       "      <th>wpt_name</th>\n",
       "      <th>...</th>\n",
       "      <th>water_quality</th>\n",
       "      <th>quality_group</th>\n",
       "      <th>quantity</th>\n",
       "      <th>quantity_group</th>\n",
       "      <th>source</th>\n",
       "      <th>source_type</th>\n",
       "      <th>source_class</th>\n",
       "      <th>waterpoint_type</th>\n",
       "      <th>waterpoint_type_group</th>\n",
       "      <th>target</th>\n",
       "    </tr>\n",
       "  </thead>\n",
       "  <tbody>\n",
       "    <tr>\n",
       "      <td>0</td>\n",
       "      <td>69572</td>\n",
       "      <td>functional</td>\n",
       "      <td>6000.0</td>\n",
       "      <td>2011-03-14</td>\n",
       "      <td>Roman</td>\n",
       "      <td>1390</td>\n",
       "      <td>Roman</td>\n",
       "      <td>34.938093</td>\n",
       "      <td>-9.856322</td>\n",
       "      <td>none</td>\n",
       "      <td>...</td>\n",
       "      <td>soft</td>\n",
       "      <td>good</td>\n",
       "      <td>enough</td>\n",
       "      <td>enough</td>\n",
       "      <td>spring</td>\n",
       "      <td>spring</td>\n",
       "      <td>groundwater</td>\n",
       "      <td>communal standpipe</td>\n",
       "      <td>communal standpipe</td>\n",
       "      <td>0</td>\n",
       "    </tr>\n",
       "    <tr>\n",
       "      <td>1</td>\n",
       "      <td>8776</td>\n",
       "      <td>functional</td>\n",
       "      <td>0.0</td>\n",
       "      <td>2013-03-06</td>\n",
       "      <td>Grumeti</td>\n",
       "      <td>1399</td>\n",
       "      <td>GRUMETI</td>\n",
       "      <td>34.698766</td>\n",
       "      <td>-2.147466</td>\n",
       "      <td>Zahanati</td>\n",
       "      <td>...</td>\n",
       "      <td>soft</td>\n",
       "      <td>good</td>\n",
       "      <td>insufficient</td>\n",
       "      <td>insufficient</td>\n",
       "      <td>rainwater harvesting</td>\n",
       "      <td>rainwater harvesting</td>\n",
       "      <td>surface</td>\n",
       "      <td>communal standpipe</td>\n",
       "      <td>communal standpipe</td>\n",
       "      <td>0</td>\n",
       "    </tr>\n",
       "    <tr>\n",
       "      <td>2</td>\n",
       "      <td>34310</td>\n",
       "      <td>functional</td>\n",
       "      <td>25.0</td>\n",
       "      <td>2013-02-25</td>\n",
       "      <td>Lottery Club</td>\n",
       "      <td>686</td>\n",
       "      <td>World vision</td>\n",
       "      <td>37.460664</td>\n",
       "      <td>-3.821329</td>\n",
       "      <td>Kwa Mahundi</td>\n",
       "      <td>...</td>\n",
       "      <td>soft</td>\n",
       "      <td>good</td>\n",
       "      <td>enough</td>\n",
       "      <td>enough</td>\n",
       "      <td>dam</td>\n",
       "      <td>dam</td>\n",
       "      <td>surface</td>\n",
       "      <td>communal standpipe multiple</td>\n",
       "      <td>communal standpipe</td>\n",
       "      <td>0</td>\n",
       "    </tr>\n",
       "    <tr>\n",
       "      <td>3</td>\n",
       "      <td>67743</td>\n",
       "      <td>needs repair</td>\n",
       "      <td>0.0</td>\n",
       "      <td>2013-01-28</td>\n",
       "      <td>Unicef</td>\n",
       "      <td>263</td>\n",
       "      <td>UNICEF</td>\n",
       "      <td>38.486161</td>\n",
       "      <td>-11.155298</td>\n",
       "      <td>Zahanati Ya Nanyumbu</td>\n",
       "      <td>...</td>\n",
       "      <td>soft</td>\n",
       "      <td>good</td>\n",
       "      <td>dry</td>\n",
       "      <td>dry</td>\n",
       "      <td>machine dbh</td>\n",
       "      <td>borehole</td>\n",
       "      <td>groundwater</td>\n",
       "      <td>communal standpipe multiple</td>\n",
       "      <td>communal standpipe</td>\n",
       "      <td>1</td>\n",
       "    </tr>\n",
       "    <tr>\n",
       "      <td>10</td>\n",
       "      <td>49056</td>\n",
       "      <td>functional</td>\n",
       "      <td>0.0</td>\n",
       "      <td>2011-02-20</td>\n",
       "      <td>Private</td>\n",
       "      <td>62</td>\n",
       "      <td>Private</td>\n",
       "      <td>39.209518</td>\n",
       "      <td>-7.034139</td>\n",
       "      <td>Mzee Hokororo</td>\n",
       "      <td>...</td>\n",
       "      <td>salty</td>\n",
       "      <td>salty</td>\n",
       "      <td>enough</td>\n",
       "      <td>enough</td>\n",
       "      <td>machine dbh</td>\n",
       "      <td>borehole</td>\n",
       "      <td>groundwater</td>\n",
       "      <td>other</td>\n",
       "      <td>other</td>\n",
       "      <td>0</td>\n",
       "    </tr>\n",
       "    <tr>\n",
       "      <td>...</td>\n",
       "      <td>...</td>\n",
       "      <td>...</td>\n",
       "      <td>...</td>\n",
       "      <td>...</td>\n",
       "      <td>...</td>\n",
       "      <td>...</td>\n",
       "      <td>...</td>\n",
       "      <td>...</td>\n",
       "      <td>...</td>\n",
       "      <td>...</td>\n",
       "      <td>...</td>\n",
       "      <td>...</td>\n",
       "      <td>...</td>\n",
       "      <td>...</td>\n",
       "      <td>...</td>\n",
       "      <td>...</td>\n",
       "      <td>...</td>\n",
       "      <td>...</td>\n",
       "      <td>...</td>\n",
       "      <td>...</td>\n",
       "      <td>...</td>\n",
       "    </tr>\n",
       "    <tr>\n",
       "      <td>59391</td>\n",
       "      <td>44885</td>\n",
       "      <td>needs repair</td>\n",
       "      <td>0.0</td>\n",
       "      <td>2013-08-03</td>\n",
       "      <td>Government Of Tanzania</td>\n",
       "      <td>540</td>\n",
       "      <td>Government</td>\n",
       "      <td>38.044070</td>\n",
       "      <td>-4.272218</td>\n",
       "      <td>Kwa</td>\n",
       "      <td>...</td>\n",
       "      <td>soft</td>\n",
       "      <td>good</td>\n",
       "      <td>enough</td>\n",
       "      <td>enough</td>\n",
       "      <td>river</td>\n",
       "      <td>river/lake</td>\n",
       "      <td>surface</td>\n",
       "      <td>communal standpipe</td>\n",
       "      <td>communal standpipe</td>\n",
       "      <td>1</td>\n",
       "    </tr>\n",
       "    <tr>\n",
       "      <td>59394</td>\n",
       "      <td>11164</td>\n",
       "      <td>needs repair</td>\n",
       "      <td>500.0</td>\n",
       "      <td>2011-03-09</td>\n",
       "      <td>World Bank</td>\n",
       "      <td>351</td>\n",
       "      <td>ML appro</td>\n",
       "      <td>37.634053</td>\n",
       "      <td>-6.124830</td>\n",
       "      <td>Chimeredya</td>\n",
       "      <td>...</td>\n",
       "      <td>soft</td>\n",
       "      <td>good</td>\n",
       "      <td>enough</td>\n",
       "      <td>enough</td>\n",
       "      <td>machine dbh</td>\n",
       "      <td>borehole</td>\n",
       "      <td>groundwater</td>\n",
       "      <td>communal standpipe</td>\n",
       "      <td>communal standpipe</td>\n",
       "      <td>1</td>\n",
       "    </tr>\n",
       "    <tr>\n",
       "      <td>59395</td>\n",
       "      <td>60739</td>\n",
       "      <td>functional</td>\n",
       "      <td>10.0</td>\n",
       "      <td>2013-05-03</td>\n",
       "      <td>Germany Republi</td>\n",
       "      <td>1210</td>\n",
       "      <td>CES</td>\n",
       "      <td>37.169807</td>\n",
       "      <td>-3.253847</td>\n",
       "      <td>Area Three Namba 27</td>\n",
       "      <td>...</td>\n",
       "      <td>soft</td>\n",
       "      <td>good</td>\n",
       "      <td>enough</td>\n",
       "      <td>enough</td>\n",
       "      <td>spring</td>\n",
       "      <td>spring</td>\n",
       "      <td>groundwater</td>\n",
       "      <td>communal standpipe</td>\n",
       "      <td>communal standpipe</td>\n",
       "      <td>0</td>\n",
       "    </tr>\n",
       "    <tr>\n",
       "      <td>59396</td>\n",
       "      <td>27263</td>\n",
       "      <td>functional</td>\n",
       "      <td>4700.0</td>\n",
       "      <td>2011-05-07</td>\n",
       "      <td>Cefa-njombe</td>\n",
       "      <td>1212</td>\n",
       "      <td>Cefa</td>\n",
       "      <td>35.249991</td>\n",
       "      <td>-9.070629</td>\n",
       "      <td>Kwa Yahona Kuvala</td>\n",
       "      <td>...</td>\n",
       "      <td>soft</td>\n",
       "      <td>good</td>\n",
       "      <td>enough</td>\n",
       "      <td>enough</td>\n",
       "      <td>river</td>\n",
       "      <td>river/lake</td>\n",
       "      <td>surface</td>\n",
       "      <td>communal standpipe</td>\n",
       "      <td>communal standpipe</td>\n",
       "      <td>0</td>\n",
       "    </tr>\n",
       "    <tr>\n",
       "      <td>59399</td>\n",
       "      <td>26348</td>\n",
       "      <td>functional</td>\n",
       "      <td>0.0</td>\n",
       "      <td>2011-03-23</td>\n",
       "      <td>World Bank</td>\n",
       "      <td>191</td>\n",
       "      <td>World</td>\n",
       "      <td>38.104048</td>\n",
       "      <td>-6.747464</td>\n",
       "      <td>Kwa Mzee Lugawa</td>\n",
       "      <td>...</td>\n",
       "      <td>salty</td>\n",
       "      <td>salty</td>\n",
       "      <td>enough</td>\n",
       "      <td>enough</td>\n",
       "      <td>shallow well</td>\n",
       "      <td>shallow well</td>\n",
       "      <td>groundwater</td>\n",
       "      <td>hand pump</td>\n",
       "      <td>hand pump</td>\n",
       "      <td>0</td>\n",
       "    </tr>\n",
       "  </tbody>\n",
       "</table>\n",
       "<p>35319 rows × 42 columns</p>\n",
       "</div>"
      ],
      "text/plain": [
       "          id  status_group  amount_tsh date_recorded                  funder  \\\n",
       "0      69572    functional      6000.0    2011-03-14                   Roman   \n",
       "1       8776    functional         0.0    2013-03-06                 Grumeti   \n",
       "2      34310    functional        25.0    2013-02-25            Lottery Club   \n",
       "3      67743  needs repair         0.0    2013-01-28                  Unicef   \n",
       "10     49056    functional         0.0    2011-02-20                 Private   \n",
       "...      ...           ...         ...           ...                     ...   \n",
       "59391  44885  needs repair         0.0    2013-08-03  Government Of Tanzania   \n",
       "59394  11164  needs repair       500.0    2011-03-09              World Bank   \n",
       "59395  60739    functional        10.0    2013-05-03         Germany Republi   \n",
       "59396  27263    functional      4700.0    2011-05-07             Cefa-njombe   \n",
       "59399  26348    functional         0.0    2011-03-23              World Bank   \n",
       "\n",
       "       gps_height     installer  longitude   latitude              wpt_name  \\\n",
       "0            1390         Roman  34.938093  -9.856322                  none   \n",
       "1            1399       GRUMETI  34.698766  -2.147466              Zahanati   \n",
       "2             686  World vision  37.460664  -3.821329           Kwa Mahundi   \n",
       "3             263        UNICEF  38.486161 -11.155298  Zahanati Ya Nanyumbu   \n",
       "10             62       Private  39.209518  -7.034139         Mzee Hokororo   \n",
       "...           ...           ...        ...        ...                   ...   \n",
       "59391         540    Government  38.044070  -4.272218                   Kwa   \n",
       "59394         351      ML appro  37.634053  -6.124830            Chimeredya   \n",
       "59395        1210           CES  37.169807  -3.253847   Area Three Namba 27   \n",
       "59396        1212          Cefa  35.249991  -9.070629     Kwa Yahona Kuvala   \n",
       "59399         191         World  38.104048  -6.747464       Kwa Mzee Lugawa   \n",
       "\n",
       "       ...  water_quality quality_group      quantity quantity_group  \\\n",
       "0      ...           soft          good        enough         enough   \n",
       "1      ...           soft          good  insufficient   insufficient   \n",
       "2      ...           soft          good        enough         enough   \n",
       "3      ...           soft          good           dry            dry   \n",
       "10     ...          salty         salty        enough         enough   \n",
       "...    ...            ...           ...           ...            ...   \n",
       "59391  ...           soft          good        enough         enough   \n",
       "59394  ...           soft          good        enough         enough   \n",
       "59395  ...           soft          good        enough         enough   \n",
       "59396  ...           soft          good        enough         enough   \n",
       "59399  ...          salty         salty        enough         enough   \n",
       "\n",
       "                     source           source_type source_class  \\\n",
       "0                    spring                spring  groundwater   \n",
       "1      rainwater harvesting  rainwater harvesting      surface   \n",
       "2                       dam                   dam      surface   \n",
       "3               machine dbh              borehole  groundwater   \n",
       "10              machine dbh              borehole  groundwater   \n",
       "...                     ...                   ...          ...   \n",
       "59391                 river            river/lake      surface   \n",
       "59394           machine dbh              borehole  groundwater   \n",
       "59395                spring                spring  groundwater   \n",
       "59396                 river            river/lake      surface   \n",
       "59399          shallow well          shallow well  groundwater   \n",
       "\n",
       "                   waterpoint_type  waterpoint_type_group target  \n",
       "0               communal standpipe     communal standpipe      0  \n",
       "1               communal standpipe     communal standpipe      0  \n",
       "2      communal standpipe multiple     communal standpipe      0  \n",
       "3      communal standpipe multiple     communal standpipe      1  \n",
       "10                           other                  other      0  \n",
       "...                            ...                    ...    ...  \n",
       "59391           communal standpipe     communal standpipe      1  \n",
       "59394           communal standpipe     communal standpipe      1  \n",
       "59395           communal standpipe     communal standpipe      0  \n",
       "59396           communal standpipe     communal standpipe      0  \n",
       "59399                    hand pump              hand pump      0  \n",
       "\n",
       "[35319 rows x 42 columns]"
      ]
     },
     "execution_count": 23,
     "metadata": {},
     "output_type": "execute_result"
    }
   ],
   "source": [
    "data = data[(data['construction_year'] > 0) & (data['population'] > 0) & (data['gps_height'] > 0)]\n",
    "data"
   ]
  },
  {
   "cell_type": "code",
   "execution_count": 24,
   "metadata": {},
   "outputs": [],
   "source": [
    "from datetime import datetime\n",
    "data['age']=datetime.now().year - data['construction_year']"
   ]
  },
  {
   "cell_type": "code",
   "execution_count": 25,
   "metadata": {},
   "outputs": [
    {
     "data": {
      "text/plain": [
       "10    2459\n",
       "12    2398\n",
       "11    2265\n",
       "20    1724\n",
       "13    1440\n",
       "14    1317\n",
       "17    1174\n",
       "9     1166\n",
       "16    1067\n",
       "8     1030\n",
       "42     987\n",
       "21     959\n",
       "22     941\n",
       "18     940\n",
       "25     918\n",
       "15     911\n",
       "30     850\n",
       "35     827\n",
       "24     781\n",
       "40     761\n",
       "38     720\n",
       "48     704\n",
       "26     687\n",
       "36     635\n",
       "28     607\n",
       "23     576\n",
       "27     565\n",
       "46     555\n",
       "19     516\n",
       "32     477\n",
       "37     464\n",
       "45     404\n",
       "34     377\n",
       "50     368\n",
       "44     366\n",
       "29     309\n",
       "33     275\n",
       "31     270\n",
       "39     218\n",
       "43     183\n",
       "41     177\n",
       "7      174\n",
       "47     174\n",
       "60      97\n",
       "53      88\n",
       "57      83\n",
       "49      82\n",
       "52      76\n",
       "51      59\n",
       "56      40\n",
       "58      29\n",
       "59      19\n",
       "55      18\n",
       "54      12\n",
       "Name: age, dtype: int64"
      ]
     },
     "execution_count": 25,
     "metadata": {},
     "output_type": "execute_result"
    }
   ],
   "source": [
    "data['age'].value_counts()"
   ]
  },
  {
   "cell_type": "code",
   "execution_count": 26,
   "metadata": {},
   "outputs": [
    {
     "data": {
      "image/png": "[encoded data removed]",
      "text/plain": [
       "<Figure size 576x396 with 1 Axes>"
      ]
     },
     "metadata": {},
     "output_type": "display_data"
    }
   ],
   "source": [
    "sns.boxplot(x='target',y='age', data=data, showfliers=False)\n",
    "plt.title('Age', fontsize=16, fontweight='bold');"
   ]
  },
  {
   "cell_type": "markdown",
   "metadata": {},
   "source": [
    "__0 is Funtional  \n",
    "1 is Non Funtional or Needs repair__"
   ]
  },
  {
   "cell_type": "code",
   "execution_count": 27,
   "metadata": {},
   "outputs": [
    {
     "data": {
      "image/png": "[encoded data removed]",
      "text/plain": [
       "<Figure size 720x360 with 1 Axes>"
      ]
     },
     "metadata": {},
     "output_type": "display_data"
    }
   ],
   "source": [
    "#Water Source\n",
    "source_df = data.groupby('status_group')['water_quality'].value_counts(ascending=False).unstack()\n",
    "source_df.plot(kind='bar', figsize=(10,5))\n",
    "plt.xlabel(\"Water Source\")\n",
    "plt.xticks(rotation=0)\n",
    "plt.ylabel(\"Water Quality\")\n",
    "plt.title('Water Quality Based on Water Source', fontsize=14, fontweight='bold')\n",
    "plt.legend(bbox_to_anchor=(1.0, 1.0), title='Water Quantity');"
   ]
  },
  {
   "cell_type": "code",
   "execution_count": 28,
   "metadata": {},
   "outputs": [
    {
     "data": {
      "image/png": "[encoded data removed]",
      "text/plain": [
       "<Figure size 720x360 with 1 Axes>"
      ]
     },
     "metadata": {},
     "output_type": "display_data"
    }
   ],
   "source": [
    "source_df = data.groupby('scheme_management')['water_quality'].value_counts(ascending=False).unstack()\n",
    "source_df.plot(kind='bar', figsize=(10,5))\n",
    "plt.xlabel(\"Water Source\")\n",
    "plt.xticks(rotation=45)\n",
    "plt.ylabel(\"Water Quality\")\n",
    "plt.title('Water Quality Based on Water Source', fontsize=14, fontweight='bold')\n",
    "plt.legend(bbox_to_anchor=(1.0, 1.0), title='Water Quantity');"
   ]
  },
  {
   "cell_type": "code",
   "execution_count": 29,
   "metadata": {},
   "outputs": [
    {
     "data": {
      "image/png": "[encoded data removed]",
      "text/plain": [
       "<Figure size 1152x720 with 1 Axes>"
      ]
     },
     "metadata": {},
     "output_type": "display_data"
    }
   ],
   "source": [
    "sub_df = data.groupby('basin')['status_group'].value_counts(ascending=True).unstack()\n",
    "sub_df.plot(kind='bar', figsize=(16,10))\n",
    "plt.xlabel(\"Water Source (Basin)\", fontweight='bold')\n",
    "plt.xticks(rotation=45,fontweight='bold')\n",
    "plt.ylabel(\"Pump Functionality\\n\")\n",
    "plt.title('\\nPump Functionality based on Basin\\n', fontsize=14, fontweight='bold')\n",
    "plt.legend(bbox_to_anchor=(1.2, 1.0), title='Water Quantity');"
   ]
  },
  {
   "cell_type": "markdown",
   "metadata": {},
   "source": [
    "__Three (Lake Nyasa, Pangani, Rufiji) have more than 60% of their pumps functioning__"
   ]
  },
  {
   "cell_type": "code",
   "execution_count": 30,
   "metadata": {},
   "outputs": [
    {
     "data": {
      "image/png": "[encoded data removed]",
      "text/plain": [
       "<Figure size 1152x720 with 1 Axes>"
      ]
     },
     "metadata": {},
     "output_type": "display_data"
    }
   ],
   "source": [
    "sub_df = data.groupby('extraction_type_class')['quantity'].value_counts(ascending=True).unstack()\n",
    "sub_df.plot(kind='bar', figsize=(16,10))\n",
    "plt.xlabel(\"Water Source (Basin)\", fontweight='bold')\n",
    "plt.xticks(rotation=45,fontweight='bold')\n",
    "plt.ylabel(\"Pump Functionality\\n\")\n",
    "plt.title('\\nPump Functionality based on Extraction Type', fontsize=14, fontweight='bold')\n",
    "plt.legend(bbox_to_anchor=(1.2, 1.0), title='Water Quantity');"
   ]
  },
  {
   "cell_type": "code",
   "execution_count": 31,
   "metadata": {},
   "outputs": [],
   "source": [
    "to_drop = ['amount_tsh', 'date_recorded', 'id', 'wpt_name', \n",
    "           'num_private', 'region_code', 'lga', \n",
    "           'ward', 'public_meeting', 'recorded_by',\n",
    "           'payment', 'management_group',\n",
    "           'quality_group', 'quantity_group', 'source_type',\n",
    "           'source_class', 'waterpoint_type_group',\n",
    "           'scheme_name','construction_year','latitude','longitude','status_group'\n",
    "          ]"
   ]
  },
  {
   "cell_type": "code",
   "execution_count": 32,
   "metadata": {},
   "outputs": [
    {
     "data": {
      "text/html": [
       "<div>\n",
       "<style scoped>\n",
       "    .dataframe tbody tr th:only-of-type {\n",
       "        vertical-align: middle;\n",
       "    }\n",
       "\n",
       "    .dataframe tbody tr th {\n",
       "        vertical-align: top;\n",
       "    }\n",
       "\n",
       "    .dataframe thead th {\n",
       "        text-align: right;\n",
       "    }\n",
       "</style>\n",
       "<table border=\"1\" class=\"dataframe\">\n",
       "  <thead>\n",
       "    <tr style=\"text-align: right;\">\n",
       "      <th></th>\n",
       "      <th>funder</th>\n",
       "      <th>gps_height</th>\n",
       "      <th>installer</th>\n",
       "      <th>basin</th>\n",
       "      <th>subvillage</th>\n",
       "      <th>region</th>\n",
       "      <th>district_code</th>\n",
       "      <th>population</th>\n",
       "      <th>scheme_management</th>\n",
       "      <th>permit</th>\n",
       "      <th>...</th>\n",
       "      <th>extraction_type_group</th>\n",
       "      <th>extraction_type_class</th>\n",
       "      <th>management</th>\n",
       "      <th>payment_type</th>\n",
       "      <th>water_quality</th>\n",
       "      <th>quantity</th>\n",
       "      <th>source</th>\n",
       "      <th>waterpoint_type</th>\n",
       "      <th>target</th>\n",
       "      <th>age</th>\n",
       "    </tr>\n",
       "  </thead>\n",
       "  <tbody>\n",
       "    <tr>\n",
       "      <td>0</td>\n",
       "      <td>Roman</td>\n",
       "      <td>1390</td>\n",
       "      <td>Roman</td>\n",
       "      <td>Lake Nyasa</td>\n",
       "      <td>Mnyusi B</td>\n",
       "      <td>Iringa</td>\n",
       "      <td>5</td>\n",
       "      <td>109</td>\n",
       "      <td>VWC</td>\n",
       "      <td>False</td>\n",
       "      <td>...</td>\n",
       "      <td>gravity</td>\n",
       "      <td>gravity</td>\n",
       "      <td>vwc</td>\n",
       "      <td>annually</td>\n",
       "      <td>soft</td>\n",
       "      <td>enough</td>\n",
       "      <td>spring</td>\n",
       "      <td>communal standpipe</td>\n",
       "      <td>0</td>\n",
       "      <td>21</td>\n",
       "    </tr>\n",
       "    <tr>\n",
       "      <td>1</td>\n",
       "      <td>Grumeti</td>\n",
       "      <td>1399</td>\n",
       "      <td>GRUMETI</td>\n",
       "      <td>Lake Victoria</td>\n",
       "      <td>Nyamara</td>\n",
       "      <td>Mara</td>\n",
       "      <td>2</td>\n",
       "      <td>280</td>\n",
       "      <td>Other</td>\n",
       "      <td>True</td>\n",
       "      <td>...</td>\n",
       "      <td>gravity</td>\n",
       "      <td>gravity</td>\n",
       "      <td>wug</td>\n",
       "      <td>never pay</td>\n",
       "      <td>soft</td>\n",
       "      <td>insufficient</td>\n",
       "      <td>rainwater harvesting</td>\n",
       "      <td>communal standpipe</td>\n",
       "      <td>0</td>\n",
       "      <td>10</td>\n",
       "    </tr>\n",
       "    <tr>\n",
       "      <td>2</td>\n",
       "      <td>Lottery Club</td>\n",
       "      <td>686</td>\n",
       "      <td>World vision</td>\n",
       "      <td>Pangani</td>\n",
       "      <td>Majengo</td>\n",
       "      <td>Manyara</td>\n",
       "      <td>4</td>\n",
       "      <td>250</td>\n",
       "      <td>VWC</td>\n",
       "      <td>True</td>\n",
       "      <td>...</td>\n",
       "      <td>gravity</td>\n",
       "      <td>gravity</td>\n",
       "      <td>vwc</td>\n",
       "      <td>per bucket</td>\n",
       "      <td>soft</td>\n",
       "      <td>enough</td>\n",
       "      <td>dam</td>\n",
       "      <td>communal standpipe multiple</td>\n",
       "      <td>0</td>\n",
       "      <td>11</td>\n",
       "    </tr>\n",
       "    <tr>\n",
       "      <td>3</td>\n",
       "      <td>Unicef</td>\n",
       "      <td>263</td>\n",
       "      <td>UNICEF</td>\n",
       "      <td>Ruvuma / Southern Coast</td>\n",
       "      <td>Mahakamani</td>\n",
       "      <td>Mtwara</td>\n",
       "      <td>63</td>\n",
       "      <td>58</td>\n",
       "      <td>VWC</td>\n",
       "      <td>True</td>\n",
       "      <td>...</td>\n",
       "      <td>submersible</td>\n",
       "      <td>submersible</td>\n",
       "      <td>vwc</td>\n",
       "      <td>never pay</td>\n",
       "      <td>soft</td>\n",
       "      <td>dry</td>\n",
       "      <td>machine dbh</td>\n",
       "      <td>communal standpipe multiple</td>\n",
       "      <td>1</td>\n",
       "      <td>34</td>\n",
       "    </tr>\n",
       "    <tr>\n",
       "      <td>10</td>\n",
       "      <td>Private</td>\n",
       "      <td>62</td>\n",
       "      <td>Private</td>\n",
       "      <td>Wami / Ruvu</td>\n",
       "      <td>Mizugo</td>\n",
       "      <td>Pwani</td>\n",
       "      <td>43</td>\n",
       "      <td>345</td>\n",
       "      <td>Private operator</td>\n",
       "      <td>False</td>\n",
       "      <td>...</td>\n",
       "      <td>submersible</td>\n",
       "      <td>submersible</td>\n",
       "      <td>private operator</td>\n",
       "      <td>never pay</td>\n",
       "      <td>salty</td>\n",
       "      <td>enough</td>\n",
       "      <td>machine dbh</td>\n",
       "      <td>other</td>\n",
       "      <td>0</td>\n",
       "      <td>9</td>\n",
       "    </tr>\n",
       "    <tr>\n",
       "      <td>...</td>\n",
       "      <td>...</td>\n",
       "      <td>...</td>\n",
       "      <td>...</td>\n",
       "      <td>...</td>\n",
       "      <td>...</td>\n",
       "      <td>...</td>\n",
       "      <td>...</td>\n",
       "      <td>...</td>\n",
       "      <td>...</td>\n",
       "      <td>...</td>\n",
       "      <td>...</td>\n",
       "      <td>...</td>\n",
       "      <td>...</td>\n",
       "      <td>...</td>\n",
       "      <td>...</td>\n",
       "      <td>...</td>\n",
       "      <td>...</td>\n",
       "      <td>...</td>\n",
       "      <td>...</td>\n",
       "      <td>...</td>\n",
       "      <td>...</td>\n",
       "    </tr>\n",
       "    <tr>\n",
       "      <td>59391</td>\n",
       "      <td>Government Of Tanzania</td>\n",
       "      <td>540</td>\n",
       "      <td>Government</td>\n",
       "      <td>Pangani</td>\n",
       "      <td>Maore Kati</td>\n",
       "      <td>Kilimanjaro</td>\n",
       "      <td>3</td>\n",
       "      <td>210</td>\n",
       "      <td>Water authority</td>\n",
       "      <td>True</td>\n",
       "      <td>...</td>\n",
       "      <td>gravity</td>\n",
       "      <td>gravity</td>\n",
       "      <td>vwc</td>\n",
       "      <td>never pay</td>\n",
       "      <td>soft</td>\n",
       "      <td>enough</td>\n",
       "      <td>river</td>\n",
       "      <td>communal standpipe</td>\n",
       "      <td>1</td>\n",
       "      <td>53</td>\n",
       "    </tr>\n",
       "    <tr>\n",
       "      <td>59394</td>\n",
       "      <td>World Bank</td>\n",
       "      <td>351</td>\n",
       "      <td>ML appro</td>\n",
       "      <td>Wami / Ruvu</td>\n",
       "      <td>Komstari</td>\n",
       "      <td>Morogoro</td>\n",
       "      <td>6</td>\n",
       "      <td>89</td>\n",
       "      <td>VWC</td>\n",
       "      <td>True</td>\n",
       "      <td>...</td>\n",
       "      <td>submersible</td>\n",
       "      <td>submersible</td>\n",
       "      <td>vwc</td>\n",
       "      <td>monthly</td>\n",
       "      <td>soft</td>\n",
       "      <td>enough</td>\n",
       "      <td>machine dbh</td>\n",
       "      <td>communal standpipe</td>\n",
       "      <td>1</td>\n",
       "      <td>13</td>\n",
       "    </tr>\n",
       "    <tr>\n",
       "      <td>59395</td>\n",
       "      <td>Germany Republi</td>\n",
       "      <td>1210</td>\n",
       "      <td>CES</td>\n",
       "      <td>Pangani</td>\n",
       "      <td>Kiduruni</td>\n",
       "      <td>Kilimanjaro</td>\n",
       "      <td>5</td>\n",
       "      <td>125</td>\n",
       "      <td>Water Board</td>\n",
       "      <td>True</td>\n",
       "      <td>...</td>\n",
       "      <td>gravity</td>\n",
       "      <td>gravity</td>\n",
       "      <td>water board</td>\n",
       "      <td>per bucket</td>\n",
       "      <td>soft</td>\n",
       "      <td>enough</td>\n",
       "      <td>spring</td>\n",
       "      <td>communal standpipe</td>\n",
       "      <td>0</td>\n",
       "      <td>21</td>\n",
       "    </tr>\n",
       "    <tr>\n",
       "      <td>59396</td>\n",
       "      <td>Cefa-njombe</td>\n",
       "      <td>1212</td>\n",
       "      <td>Cefa</td>\n",
       "      <td>Rufiji</td>\n",
       "      <td>Igumbilo</td>\n",
       "      <td>Iringa</td>\n",
       "      <td>4</td>\n",
       "      <td>56</td>\n",
       "      <td>VWC</td>\n",
       "      <td>True</td>\n",
       "      <td>...</td>\n",
       "      <td>gravity</td>\n",
       "      <td>gravity</td>\n",
       "      <td>vwc</td>\n",
       "      <td>annually</td>\n",
       "      <td>soft</td>\n",
       "      <td>enough</td>\n",
       "      <td>river</td>\n",
       "      <td>communal standpipe</td>\n",
       "      <td>0</td>\n",
       "      <td>24</td>\n",
       "    </tr>\n",
       "    <tr>\n",
       "      <td>59399</td>\n",
       "      <td>World Bank</td>\n",
       "      <td>191</td>\n",
       "      <td>World</td>\n",
       "      <td>Wami / Ruvu</td>\n",
       "      <td>Kikatanyemba</td>\n",
       "      <td>Morogoro</td>\n",
       "      <td>2</td>\n",
       "      <td>150</td>\n",
       "      <td>VWC</td>\n",
       "      <td>True</td>\n",
       "      <td>...</td>\n",
       "      <td>nira/tanira</td>\n",
       "      <td>handpump</td>\n",
       "      <td>vwc</td>\n",
       "      <td>on failure</td>\n",
       "      <td>salty</td>\n",
       "      <td>enough</td>\n",
       "      <td>shallow well</td>\n",
       "      <td>hand pump</td>\n",
       "      <td>0</td>\n",
       "      <td>18</td>\n",
       "    </tr>\n",
       "  </tbody>\n",
       "</table>\n",
       "<p>35319 rows × 21 columns</p>\n",
       "</div>"
      ],
      "text/plain": [
       "                       funder  gps_height     installer  \\\n",
       "0                       Roman        1390         Roman   \n",
       "1                     Grumeti        1399       GRUMETI   \n",
       "2                Lottery Club         686  World vision   \n",
       "3                      Unicef         263        UNICEF   \n",
       "10                    Private          62       Private   \n",
       "...                       ...         ...           ...   \n",
       "59391  Government Of Tanzania         540    Government   \n",
       "59394              World Bank         351      ML appro   \n",
       "59395         Germany Republi        1210           CES   \n",
       "59396             Cefa-njombe        1212          Cefa   \n",
       "59399              World Bank         191         World   \n",
       "\n",
       "                         basin    subvillage       region  district_code  \\\n",
       "0                   Lake Nyasa      Mnyusi B       Iringa              5   \n",
       "1                Lake Victoria       Nyamara         Mara              2   \n",
       "2                      Pangani       Majengo      Manyara              4   \n",
       "3      Ruvuma / Southern Coast    Mahakamani       Mtwara             63   \n",
       "10                 Wami / Ruvu        Mizugo        Pwani             43   \n",
       "...                        ...           ...          ...            ...   \n",
       "59391                  Pangani    Maore Kati  Kilimanjaro              3   \n",
       "59394              Wami / Ruvu      Komstari     Morogoro              6   \n",
       "59395                  Pangani      Kiduruni  Kilimanjaro              5   \n",
       "59396                   Rufiji      Igumbilo       Iringa              4   \n",
       "59399              Wami / Ruvu  Kikatanyemba     Morogoro              2   \n",
       "\n",
       "       population scheme_management permit  ... extraction_type_group  \\\n",
       "0             109               VWC  False  ...               gravity   \n",
       "1             280             Other   True  ...               gravity   \n",
       "2             250               VWC   True  ...               gravity   \n",
       "3              58               VWC   True  ...           submersible   \n",
       "10            345  Private operator  False  ...           submersible   \n",
       "...           ...               ...    ...  ...                   ...   \n",
       "59391         210   Water authority   True  ...               gravity   \n",
       "59394          89               VWC   True  ...           submersible   \n",
       "59395         125       Water Board   True  ...               gravity   \n",
       "59396          56               VWC   True  ...               gravity   \n",
       "59399         150               VWC   True  ...           nira/tanira   \n",
       "\n",
       "      extraction_type_class        management payment_type water_quality  \\\n",
       "0                   gravity               vwc     annually          soft   \n",
       "1                   gravity               wug    never pay          soft   \n",
       "2                   gravity               vwc   per bucket          soft   \n",
       "3               submersible               vwc    never pay          soft   \n",
       "10              submersible  private operator    never pay         salty   \n",
       "...                     ...               ...          ...           ...   \n",
       "59391               gravity               vwc    never pay          soft   \n",
       "59394           submersible               vwc      monthly          soft   \n",
       "59395               gravity       water board   per bucket          soft   \n",
       "59396               gravity               vwc     annually          soft   \n",
       "59399              handpump               vwc   on failure         salty   \n",
       "\n",
       "           quantity                source              waterpoint_type target  \\\n",
       "0            enough                spring           communal standpipe      0   \n",
       "1      insufficient  rainwater harvesting           communal standpipe      0   \n",
       "2            enough                   dam  communal standpipe multiple      0   \n",
       "3               dry           machine dbh  communal standpipe multiple      1   \n",
       "10           enough           machine dbh                        other      0   \n",
       "...             ...                   ...                          ...    ...   \n",
       "59391        enough                 river           communal standpipe      1   \n",
       "59394        enough           machine dbh           communal standpipe      1   \n",
       "59395        enough                spring           communal standpipe      0   \n",
       "59396        enough                 river           communal standpipe      0   \n",
       "59399        enough          shallow well                    hand pump      0   \n",
       "\n",
       "       age  \n",
       "0       21  \n",
       "1       10  \n",
       "2       11  \n",
       "3       34  \n",
       "10       9  \n",
       "...    ...  \n",
       "59391   53  \n",
       "59394   13  \n",
       "59395   21  \n",
       "59396   24  \n",
       "59399   18  \n",
       "\n",
       "[35319 rows x 21 columns]"
      ]
     },
     "execution_count": 32,
     "metadata": {},
     "output_type": "execute_result"
    }
   ],
   "source": [
    "data = data.drop(to_drop, axis=1)\n",
    "data"
   ]
  },
  {
   "cell_type": "code",
   "execution_count": 33,
   "metadata": {},
   "outputs": [],
   "source": [
    "X = data.drop(['target'], axis=1)\n",
    "y = data['target']"
   ]
  },
  {
   "cell_type": "code",
   "execution_count": 34,
   "metadata": {},
   "outputs": [
    {
     "data": {
      "text/html": [
       "<div>\n",
       "<style scoped>\n",
       "    .dataframe tbody tr th:only-of-type {\n",
       "        vertical-align: middle;\n",
       "    }\n",
       "\n",
       "    .dataframe tbody tr th {\n",
       "        vertical-align: top;\n",
       "    }\n",
       "\n",
       "    .dataframe thead th {\n",
       "        text-align: right;\n",
       "    }\n",
       "</style>\n",
       "<table border=\"1\" class=\"dataframe\">\n",
       "  <thead>\n",
       "    <tr style=\"text-align: right;\">\n",
       "      <th></th>\n",
       "      <th>funder</th>\n",
       "      <th>gps_height</th>\n",
       "      <th>installer</th>\n",
       "      <th>basin</th>\n",
       "      <th>subvillage</th>\n",
       "      <th>region</th>\n",
       "      <th>district_code</th>\n",
       "      <th>population</th>\n",
       "      <th>scheme_management</th>\n",
       "      <th>permit</th>\n",
       "      <th>extraction_type</th>\n",
       "      <th>extraction_type_group</th>\n",
       "      <th>extraction_type_class</th>\n",
       "      <th>management</th>\n",
       "      <th>payment_type</th>\n",
       "      <th>water_quality</th>\n",
       "      <th>quantity</th>\n",
       "      <th>source</th>\n",
       "      <th>waterpoint_type</th>\n",
       "      <th>age</th>\n",
       "    </tr>\n",
       "  </thead>\n",
       "  <tbody>\n",
       "    <tr>\n",
       "      <td>0</td>\n",
       "      <td>Roman</td>\n",
       "      <td>1390</td>\n",
       "      <td>Roman</td>\n",
       "      <td>Lake Nyasa</td>\n",
       "      <td>Mnyusi B</td>\n",
       "      <td>Iringa</td>\n",
       "      <td>5</td>\n",
       "      <td>109</td>\n",
       "      <td>VWC</td>\n",
       "      <td>False</td>\n",
       "      <td>gravity</td>\n",
       "      <td>gravity</td>\n",
       "      <td>gravity</td>\n",
       "      <td>vwc</td>\n",
       "      <td>annually</td>\n",
       "      <td>soft</td>\n",
       "      <td>enough</td>\n",
       "      <td>spring</td>\n",
       "      <td>communal standpipe</td>\n",
       "      <td>21</td>\n",
       "    </tr>\n",
       "    <tr>\n",
       "      <td>1</td>\n",
       "      <td>Grumeti</td>\n",
       "      <td>1399</td>\n",
       "      <td>GRUMETI</td>\n",
       "      <td>Lake Victoria</td>\n",
       "      <td>Nyamara</td>\n",
       "      <td>Mara</td>\n",
       "      <td>2</td>\n",
       "      <td>280</td>\n",
       "      <td>Other</td>\n",
       "      <td>True</td>\n",
       "      <td>gravity</td>\n",
       "      <td>gravity</td>\n",
       "      <td>gravity</td>\n",
       "      <td>wug</td>\n",
       "      <td>never pay</td>\n",
       "      <td>soft</td>\n",
       "      <td>insufficient</td>\n",
       "      <td>rainwater harvesting</td>\n",
       "      <td>communal standpipe</td>\n",
       "      <td>10</td>\n",
       "    </tr>\n",
       "    <tr>\n",
       "      <td>2</td>\n",
       "      <td>Lottery Club</td>\n",
       "      <td>686</td>\n",
       "      <td>World vision</td>\n",
       "      <td>Pangani</td>\n",
       "      <td>Majengo</td>\n",
       "      <td>Manyara</td>\n",
       "      <td>4</td>\n",
       "      <td>250</td>\n",
       "      <td>VWC</td>\n",
       "      <td>True</td>\n",
       "      <td>gravity</td>\n",
       "      <td>gravity</td>\n",
       "      <td>gravity</td>\n",
       "      <td>vwc</td>\n",
       "      <td>per bucket</td>\n",
       "      <td>soft</td>\n",
       "      <td>enough</td>\n",
       "      <td>dam</td>\n",
       "      <td>communal standpipe multiple</td>\n",
       "      <td>11</td>\n",
       "    </tr>\n",
       "    <tr>\n",
       "      <td>3</td>\n",
       "      <td>Unicef</td>\n",
       "      <td>263</td>\n",
       "      <td>UNICEF</td>\n",
       "      <td>Ruvuma / Southern Coast</td>\n",
       "      <td>Mahakamani</td>\n",
       "      <td>Mtwara</td>\n",
       "      <td>63</td>\n",
       "      <td>58</td>\n",
       "      <td>VWC</td>\n",
       "      <td>True</td>\n",
       "      <td>submersible</td>\n",
       "      <td>submersible</td>\n",
       "      <td>submersible</td>\n",
       "      <td>vwc</td>\n",
       "      <td>never pay</td>\n",
       "      <td>soft</td>\n",
       "      <td>dry</td>\n",
       "      <td>machine dbh</td>\n",
       "      <td>communal standpipe multiple</td>\n",
       "      <td>34</td>\n",
       "    </tr>\n",
       "    <tr>\n",
       "      <td>10</td>\n",
       "      <td>Private</td>\n",
       "      <td>62</td>\n",
       "      <td>Private</td>\n",
       "      <td>Wami / Ruvu</td>\n",
       "      <td>Mizugo</td>\n",
       "      <td>Pwani</td>\n",
       "      <td>43</td>\n",
       "      <td>345</td>\n",
       "      <td>Private operator</td>\n",
       "      <td>False</td>\n",
       "      <td>submersible</td>\n",
       "      <td>submersible</td>\n",
       "      <td>submersible</td>\n",
       "      <td>private operator</td>\n",
       "      <td>never pay</td>\n",
       "      <td>salty</td>\n",
       "      <td>enough</td>\n",
       "      <td>machine dbh</td>\n",
       "      <td>other</td>\n",
       "      <td>9</td>\n",
       "    </tr>\n",
       "  </tbody>\n",
       "</table>\n",
       "</div>"
      ],
      "text/plain": [
       "          funder  gps_height     installer                    basin  \\\n",
       "0          Roman        1390         Roman               Lake Nyasa   \n",
       "1        Grumeti        1399       GRUMETI            Lake Victoria   \n",
       "2   Lottery Club         686  World vision                  Pangani   \n",
       "3         Unicef         263        UNICEF  Ruvuma / Southern Coast   \n",
       "10       Private          62       Private              Wami / Ruvu   \n",
       "\n",
       "    subvillage   region  district_code  population scheme_management permit  \\\n",
       "0     Mnyusi B   Iringa              5         109               VWC  False   \n",
       "1      Nyamara     Mara              2         280             Other   True   \n",
       "2      Majengo  Manyara              4         250               VWC   True   \n",
       "3   Mahakamani   Mtwara             63          58               VWC   True   \n",
       "10      Mizugo    Pwani             43         345  Private operator  False   \n",
       "\n",
       "   extraction_type extraction_type_group extraction_type_class  \\\n",
       "0          gravity               gravity               gravity   \n",
       "1          gravity               gravity               gravity   \n",
       "2          gravity               gravity               gravity   \n",
       "3      submersible           submersible           submersible   \n",
       "10     submersible           submersible           submersible   \n",
       "\n",
       "          management payment_type water_quality      quantity  \\\n",
       "0                vwc     annually          soft        enough   \n",
       "1                wug    never pay          soft  insufficient   \n",
       "2                vwc   per bucket          soft        enough   \n",
       "3                vwc    never pay          soft           dry   \n",
       "10  private operator    never pay         salty        enough   \n",
       "\n",
       "                  source              waterpoint_type  age  \n",
       "0                 spring           communal standpipe   21  \n",
       "1   rainwater harvesting           communal standpipe   10  \n",
       "2                    dam  communal standpipe multiple   11  \n",
       "3            machine dbh  communal standpipe multiple   34  \n",
       "10           machine dbh                        other    9  "
      ]
     },
     "execution_count": 34,
     "metadata": {},
     "output_type": "execute_result"
    },
    {
     "data": {
      "text/plain": [
       "0     0\n",
       "1     0\n",
       "2     0\n",
       "3     1\n",
       "10    0\n",
       "Name: target, dtype: int8"
      ]
     },
     "execution_count": 34,
     "metadata": {},
     "output_type": "execute_result"
    }
   ],
   "source": [
    "X.head()\n",
    "y.head()"
   ]
  },
  {
   "cell_type": "code",
   "execution_count": 35,
   "metadata": {},
   "outputs": [],
   "source": [
    "numerical_cols = list(X.select_dtypes(include=np.number).columns)\n",
    "categorical_cols = list(X.select_dtypes(exclude=np.number).columns)"
   ]
  },
  {
   "cell_type": "code",
   "execution_count": 36,
   "metadata": {},
   "outputs": [],
   "source": [
    "from sklearn.compose import ColumnTransformer\n",
    "from sklearn.pipeline import Pipeline\n",
    "from sklearn.impute import SimpleImputer\n",
    "from sklearn.preprocessing import OneHotEncoder, StandardScaler\n",
    "\n",
    "# Preprocessing for numerical data\n",
    "numerical_transformer = Pipeline(steps=[\n",
    "    ('imputer', SimpleImputer(strategy='constant')),\n",
    "    ('scale', StandardScaler())\n",
    "])\n",
    "\n",
    "# Preprocessing for categorical data\n",
    "categorical_transformer = Pipeline(steps=[\n",
    "    ('imputer', SimpleImputer(strategy='most_frequent')),\n",
    "    ('onehot', OneHotEncoder(handle_unknown='ignore'))\n",
    "])\n",
    "\n",
    "# Bundle preprocessing for numerical and categorical data\n",
    "preprocessor = ColumnTransformer(\n",
    "    transformers=[\n",
    "        ('num', numerical_transformer, numerical_cols),\n",
    "        ('cat', categorical_transformer, categorical_cols)\n",
    "    ])"
   ]
  },
  {
   "cell_type": "code",
   "execution_count": 37,
   "metadata": {},
   "outputs": [],
   "source": [
    "from sklearn.metrics import mean_absolute_error\n",
    "from sklearn.model_selection import GridSearchCV\n",
    "from imblearn.over_sampling import SMOTE\n",
    "from imblearn.under_sampling import RandomUnderSampler\n",
    "from imblearn.pipeline import Pipeline\n",
    "from sklearn.decomposition import TruncatedSVD\n",
    "import xgboost as xgboost\n",
    "\n",
    "def fit_predict(model, X_train, X_test, y_train, y_test, smote=False):\n",
    "    '''fit pipeline using given model, and return predictions'''\n",
    "    \n",
    "    param_grid = model['params']\n",
    "    model = model['model']\n",
    "        \n",
    "    if smote:\n",
    "        # Bundle preprocessing and modeling code in a pipeline\n",
    "        my_pipeline = Pipeline(steps=[('preprocessor', preprocessor),\n",
    "                              #        ('smote', SMOTE()),\n",
    "                                      ('under', RandomUnderSampler()),\n",
    "                              #        ('pca', TruncatedSVD()),\n",
    "                                      ('model', model)\n",
    "                                     ])\n",
    "    else:\n",
    "        # Bundle preprocessing and modeling code in a pipeline\n",
    "        my_pipeline = Pipeline(steps=[('preprocessor', preprocessor),\n",
    "                                  #    ('pca', TruncatedSVD()),\n",
    "                                      ('model', model)\n",
    "                                     ])\n",
    "\n",
    "    search = GridSearchCV(estimator=my_pipeline,\n",
    "             param_grid=param_grid, n_jobs=-1, verbose=2, cv=3)\n",
    "    \n",
    "    search.fit(X_train, y_train)\n",
    "    \n",
    "    #best_estimator = search.best_estimator_._final_estimator\n",
    "   # xgboost.plot_importance(best_estimator)\n",
    "    \n",
    " #   xgboost.plot_tree(best_estimator, num_trees=2)\n",
    "    \n",
    "  #  print(search.best_estimator_.feature_importances_)\n",
    "    \n",
    "    print(\"Best parameter (CV score=%0.3f):\" % search.best_score_)\n",
    "    print(search.best_params_)\n",
    "\n",
    "    # Preprocessing of validation data, get predictions\n",
    "    test_preds = search.predict(X_test)\n",
    "    train_preds = search.predict(X_train)\n",
    "    return test_preds, train_preds\n"
   ]
  },
  {
   "cell_type": "code",
   "execution_count": 38,
   "metadata": {},
   "outputs": [],
   "source": [
    "from sklearn.metrics import accuracy_score\n",
    "from sklearn.metrics import classification_report\n",
    "from sklearn.metrics import confusion_matrix\n",
    "import itertools\n",
    "import matplotlib.pyplot as plt\n",
    "%matplotlib inline\n",
    "\n",
    "\n",
    "\n",
    "def plot_confusion_matrix(y_true, y_preds):\n",
    "    # Print confusion matrix\n",
    "    cnf_matrix = confusion_matrix(y_true, y_preds)\n",
    "    # Create the basic matrix\n",
    "    plt.imshow(cnf_matrix,  cmap=plt.cm.Blues)\n",
    "    # Add title and axis labels\n",
    "    plt.title('Confusion Matrix')\n",
    "    plt.ylabel('True label')\n",
    "    plt.xlabel('Predicted label')\n",
    "    # Add appropriate axis scales\n",
    "    class_names = set(y) # Get class labels to add to matrix\n",
    "    tick_marks = np.arange(len(class_names))\n",
    "    plt.xticks(tick_marks, class_names, rotation=0)\n",
    "    plt.yticks(tick_marks, class_names)\n",
    "    # Add labels to each cell\n",
    "    thresh = cnf_matrix.max() / 2. # Used for text coloring below\n",
    "    # Here we iterate through the confusion matrix and append labels to our visualization\n",
    "    for i, j in itertools.product(range(cnf_matrix.shape[0]), range(cnf_matrix.shape[1])):\n",
    "            plt.text(j, i, cnf_matrix[i, j],\n",
    "                     horizontalalignment='center',\n",
    "                     color='white' if cnf_matrix[i, j] > thresh else 'black')\n",
    "    # Add a legend\n",
    "    plt.colorbar();\n",
    "    plt.show();\n",
    "\n",
    "def metrics(model_name, y_train, y_test, y_train_pred, y_test_pred):\n",
    "    '''Print out the evaluation metrics for a given models predictions'''\n",
    "    print(f'Model: {model_name}', )\n",
    "    print('-'*60)\n",
    "    plot_confusion_matrix(y_test,y_test_pred)\n",
    "    print(f'test accuracy: {accuracy_score(y_test, y_test_pred)}')\n",
    "    print(f'train accuracy: {accuracy_score(y_train, y_train_pred)}')\n",
    "    print('-'*60)\n",
    "    print('\\ntest report:\\n' + classification_report(y_test, y_test_pred))\n",
    "    print('~'*60)\n",
    "    print('\\ntrain report:\\n' + classification_report(y_train, y_train_pred))    \n",
    "    print('-'*60)"
   ]
  },
  {
   "cell_type": "code",
   "execution_count": 39,
   "metadata": {},
   "outputs": [],
   "source": [
    "\n",
    "smallest_num = data['target'].value_counts().sort_values().values[0]\n",
    "target_0 = data[data['target'] == 0].sample(smallest_num)\n",
    "target_1 = data[data['target'] == 1].sample(smallest_num)\n",
    "sampled_df = pd.concat([target_0, target_1])"
   ]
  },
  {
   "cell_type": "code",
   "execution_count": 40,
   "metadata": {},
   "outputs": [
    {
     "data": {
      "text/plain": [
       "1    15718\n",
       "0    15718\n",
       "Name: target, dtype: int64"
      ]
     },
     "execution_count": 40,
     "metadata": {},
     "output_type": "execute_result"
    }
   ],
   "source": [
    "sampled_df['target'].value_counts()"
   ]
  },
  {
   "cell_type": "code",
   "execution_count": 41,
   "metadata": {},
   "outputs": [],
   "source": [
    "X_sampled_df = sampled_df.drop('target', axis=1)\n",
    "y_sampled_df = sampled_df['target']"
   ]
  },
  {
   "cell_type": "code",
   "execution_count": 42,
   "metadata": {},
   "outputs": [],
   "source": [
    "X_train, X_test, y_train, y_test = train_test_split(X_sampled_df, y_sampled_df, test_size=.3, random_state=42)"
   ]
  },
  {
   "cell_type": "code",
   "execution_count": 43,
   "metadata": {},
   "outputs": [
    {
     "data": {
      "text/html": [
       "<div>\n",
       "<style scoped>\n",
       "    .dataframe tbody tr th:only-of-type {\n",
       "        vertical-align: middle;\n",
       "    }\n",
       "\n",
       "    .dataframe tbody tr th {\n",
       "        vertical-align: top;\n",
       "    }\n",
       "\n",
       "    .dataframe thead th {\n",
       "        text-align: right;\n",
       "    }\n",
       "</style>\n",
       "<table border=\"1\" class=\"dataframe\">\n",
       "  <thead>\n",
       "    <tr style=\"text-align: right;\">\n",
       "      <th></th>\n",
       "      <th>funder</th>\n",
       "      <th>gps_height</th>\n",
       "      <th>installer</th>\n",
       "      <th>basin</th>\n",
       "      <th>subvillage</th>\n",
       "      <th>region</th>\n",
       "      <th>district_code</th>\n",
       "      <th>population</th>\n",
       "      <th>scheme_management</th>\n",
       "      <th>permit</th>\n",
       "      <th>extraction_type</th>\n",
       "      <th>extraction_type_group</th>\n",
       "      <th>extraction_type_class</th>\n",
       "      <th>management</th>\n",
       "      <th>payment_type</th>\n",
       "      <th>water_quality</th>\n",
       "      <th>quantity</th>\n",
       "      <th>source</th>\n",
       "      <th>waterpoint_type</th>\n",
       "      <th>age</th>\n",
       "    </tr>\n",
       "  </thead>\n",
       "  <tbody>\n",
       "    <tr>\n",
       "      <td>53118</td>\n",
       "      <td>World Vision</td>\n",
       "      <td>1660</td>\n",
       "      <td>DWE</td>\n",
       "      <td>Pangani</td>\n",
       "      <td>Rc</td>\n",
       "      <td>Arusha</td>\n",
       "      <td>2</td>\n",
       "      <td>150</td>\n",
       "      <td>VWC</td>\n",
       "      <td>True</td>\n",
       "      <td>gravity</td>\n",
       "      <td>gravity</td>\n",
       "      <td>gravity</td>\n",
       "      <td>vwc</td>\n",
       "      <td>never pay</td>\n",
       "      <td>soft</td>\n",
       "      <td>insufficient</td>\n",
       "      <td>spring</td>\n",
       "      <td>communal standpipe</td>\n",
       "      <td>20</td>\n",
       "    </tr>\n",
       "    <tr>\n",
       "      <td>34879</td>\n",
       "      <td>Adb</td>\n",
       "      <td>1794</td>\n",
       "      <td>DWE</td>\n",
       "      <td>Rufiji</td>\n",
       "      <td>Mshindo</td>\n",
       "      <td>Iringa</td>\n",
       "      <td>4</td>\n",
       "      <td>75</td>\n",
       "      <td>VWC</td>\n",
       "      <td>True</td>\n",
       "      <td>gravity</td>\n",
       "      <td>gravity</td>\n",
       "      <td>gravity</td>\n",
       "      <td>vwc</td>\n",
       "      <td>on failure</td>\n",
       "      <td>soft</td>\n",
       "      <td>enough</td>\n",
       "      <td>river</td>\n",
       "      <td>communal standpipe</td>\n",
       "      <td>12</td>\n",
       "    </tr>\n",
       "    <tr>\n",
       "      <td>7335</td>\n",
       "      <td>Twe</td>\n",
       "      <td>2238</td>\n",
       "      <td>TWE</td>\n",
       "      <td>Lake Nyasa</td>\n",
       "      <td>Mjimwema</td>\n",
       "      <td>Iringa</td>\n",
       "      <td>4</td>\n",
       "      <td>30</td>\n",
       "      <td>VWC</td>\n",
       "      <td>False</td>\n",
       "      <td>gravity</td>\n",
       "      <td>gravity</td>\n",
       "      <td>gravity</td>\n",
       "      <td>vwc</td>\n",
       "      <td>never pay</td>\n",
       "      <td>soft</td>\n",
       "      <td>enough</td>\n",
       "      <td>spring</td>\n",
       "      <td>communal standpipe</td>\n",
       "      <td>28</td>\n",
       "    </tr>\n",
       "    <tr>\n",
       "      <td>33527</td>\n",
       "      <td>Jaica</td>\n",
       "      <td>9</td>\n",
       "      <td>Jaica</td>\n",
       "      <td>Ruvuma / Southern Coast</td>\n",
       "      <td>Maji</td>\n",
       "      <td>Mtwara</td>\n",
       "      <td>1</td>\n",
       "      <td>250</td>\n",
       "      <td>VWC</td>\n",
       "      <td>True</td>\n",
       "      <td>submersible</td>\n",
       "      <td>submersible</td>\n",
       "      <td>submersible</td>\n",
       "      <td>vwc</td>\n",
       "      <td>per bucket</td>\n",
       "      <td>soft</td>\n",
       "      <td>enough</td>\n",
       "      <td>machine dbh</td>\n",
       "      <td>communal standpipe multiple</td>\n",
       "      <td>20</td>\n",
       "    </tr>\n",
       "    <tr>\n",
       "      <td>16775</td>\n",
       "      <td>Losaa-kia Water Supply</td>\n",
       "      <td>1270</td>\n",
       "      <td>Losaa-Kia water supp</td>\n",
       "      <td>Pangani</td>\n",
       "      <td>Ngabobo</td>\n",
       "      <td>Kilimanjaro</td>\n",
       "      <td>7</td>\n",
       "      <td>1</td>\n",
       "      <td>Water Board</td>\n",
       "      <td>True</td>\n",
       "      <td>gravity</td>\n",
       "      <td>gravity</td>\n",
       "      <td>gravity</td>\n",
       "      <td>water board</td>\n",
       "      <td>monthly</td>\n",
       "      <td>soft</td>\n",
       "      <td>enough</td>\n",
       "      <td>spring</td>\n",
       "      <td>communal standpipe</td>\n",
       "      <td>21</td>\n",
       "    </tr>\n",
       "  </tbody>\n",
       "</table>\n",
       "</div>"
      ],
      "text/plain": [
       "                       funder  gps_height             installer  \\\n",
       "53118            World Vision        1660                   DWE   \n",
       "34879                     Adb        1794                   DWE   \n",
       "7335                      Twe        2238                   TWE   \n",
       "33527                   Jaica           9                 Jaica   \n",
       "16775  Losaa-kia Water Supply        1270  Losaa-Kia water supp   \n",
       "\n",
       "                         basin subvillage       region  district_code  \\\n",
       "53118                  Pangani         Rc       Arusha              2   \n",
       "34879                   Rufiji    Mshindo       Iringa              4   \n",
       "7335                Lake Nyasa   Mjimwema       Iringa              4   \n",
       "33527  Ruvuma / Southern Coast       Maji       Mtwara              1   \n",
       "16775                  Pangani    Ngabobo  Kilimanjaro              7   \n",
       "\n",
       "       population scheme_management permit extraction_type  \\\n",
       "53118         150               VWC   True         gravity   \n",
       "34879          75               VWC   True         gravity   \n",
       "7335           30               VWC  False         gravity   \n",
       "33527         250               VWC   True     submersible   \n",
       "16775           1       Water Board   True         gravity   \n",
       "\n",
       "      extraction_type_group extraction_type_class   management payment_type  \\\n",
       "53118               gravity               gravity          vwc    never pay   \n",
       "34879               gravity               gravity          vwc   on failure   \n",
       "7335                gravity               gravity          vwc    never pay   \n",
       "33527           submersible           submersible          vwc   per bucket   \n",
       "16775               gravity               gravity  water board      monthly   \n",
       "\n",
       "      water_quality      quantity       source              waterpoint_type  \\\n",
       "53118          soft  insufficient       spring           communal standpipe   \n",
       "34879          soft        enough        river           communal standpipe   \n",
       "7335           soft        enough       spring           communal standpipe   \n",
       "33527          soft        enough  machine dbh  communal standpipe multiple   \n",
       "16775          soft        enough       spring           communal standpipe   \n",
       "\n",
       "       age  \n",
       "53118   20  \n",
       "34879   12  \n",
       "7335    28  \n",
       "33527   20  \n",
       "16775   21  "
      ]
     },
     "execution_count": 43,
     "metadata": {},
     "output_type": "execute_result"
    }
   ],
   "source": [
    "X_sampled_df.head()"
   ]
  },
  {
   "cell_type": "code",
   "execution_count": 44,
   "metadata": {},
   "outputs": [
    {
     "data": {
      "text/plain": [
       "31436"
      ]
     },
     "execution_count": 44,
     "metadata": {},
     "output_type": "execute_result"
    }
   ],
   "source": [
    "X_sampled_df.shape[0]"
   ]
  },
  {
   "cell_type": "code",
   "execution_count": 45,
   "metadata": {},
   "outputs": [],
   "source": [
    "# lsvc_param = {\n",
    "#    # 'model__C': [0.01,1.0,100], \n",
    "#     'model__C': [1, 10, 100], \n",
    "#     'model__tol': [1,0.1,0.01],\n",
    "#     'model__max_iter': [10000, 15000],\n",
    "#     'model__dual':[False],\n",
    "#     'model__penalty': ['l1','l2'],\n",
    "#     'model__multi_class': ['ovr','crammer_singer']\n",
    "# }\n",
    "\n",
    "lsvc_param = {\n",
    "    'model__C': [1, 10], \n",
    "  #  'model__tol': [0.01],\n",
    "    'model__max_iter': [10000],\n",
    "    'model__dual':[False],\n",
    "    'model__penalty': ['l2'],\n",
    "    'model__multi_class': ['crammer_singer']\n",
    "}"
   ]
  },
  {
   "cell_type": "code",
   "execution_count": 46,
   "metadata": {},
   "outputs": [
    {
     "name": "stdout",
     "output_type": "stream",
     "text": [
      "Fitting 3 folds for each of 2 candidates, totalling 6 fits\n"
     ]
    },
    {
     "name": "stderr",
     "output_type": "stream",
     "text": [
      "[Parallel(n_jobs=-1)]: Using backend LokyBackend with 4 concurrent workers.\n",
      "[Parallel(n_jobs=-1)]: Done   3 out of   6 | elapsed:  8.7min remaining:  8.7min\n",
      "[Parallel(n_jobs=-1)]: Done   6 out of   6 | elapsed: 14.1min finished\n"
     ]
    },
    {
     "name": "stdout",
     "output_type": "stream",
     "text": [
      "Best parameter (CV score=0.772):\n",
      "{'model__C': 1, 'model__dual': False, 'model__max_iter': 10000, 'model__multi_class': 'crammer_singer', 'model__penalty': 'l2'}\n"
     ]
    }
   ],
   "source": [
    "from sklearn.svm import LinearSVC\n",
    "\n",
    "lsvc = { 'model': LinearSVC(random_state=42), 'params': lsvc_param }\n",
    "\n",
    "lsvc_test_preds, lsvc_train_preds = fit_predict(lsvc, X_train, X_test, y_train, y_test)"
   ]
  },
  {
   "cell_type": "code",
   "execution_count": 50,
   "metadata": {},
   "outputs": [
    {
     "name": "stdout",
     "output_type": "stream",
     "text": [
      "Model: LinearSVC\n",
      "------------------------------------------------------------\n"
     ]
    },
    {
     "data": {
      "image/png": "[encoded data removed]",
      "text/plain": [
       "<Figure size 432x288 with 2 Axes>"
      ]
     },
     "metadata": {
      "needs_background": "light"
     },
     "output_type": "display_data"
    },
    {
     "name": "stdout",
     "output_type": "stream",
     "text": [
      "test accuracy: 0.7825257130739052\n",
      "train accuracy: 0.9057941376959782\n",
      "------------------------------------------------------------\n",
      "\n",
      "test report:\n",
      "              precision    recall  f1-score   support\n",
      "\n",
      "           0       0.78      0.80      0.79      4764\n",
      "           1       0.79      0.76      0.78      4667\n",
      "\n",
      "    accuracy                           0.78      9431\n",
      "   macro avg       0.78      0.78      0.78      9431\n",
      "weighted avg       0.78      0.78      0.78      9431\n",
      "\n",
      "~~~~~~~~~~~~~~~~~~~~~~~~~~~~~~~~~~~~~~~~~~~~~~~~~~~~~~~~~~~~\n",
      "\n",
      "train report:\n",
      "              precision    recall  f1-score   support\n",
      "\n",
      "           0       0.89      0.92      0.91     10954\n",
      "           1       0.92      0.89      0.90     11051\n",
      "\n",
      "    accuracy                           0.91     22005\n",
      "   macro avg       0.91      0.91      0.91     22005\n",
      "weighted avg       0.91      0.91      0.91     22005\n",
      "\n",
      "------------------------------------------------------------\n"
     ]
    }
   ],
   "source": [
    "metrics('LinearSVC', y_train, y_test, lsvc_train_preds, lsvc_test_preds)"
   ]
  },
  {
   "cell_type": "code",
   "execution_count": 48,
   "metadata": {},
   "outputs": [
    {
     "data": {
      "image/png": "[encoded data removed]",
      "text/plain": [
       "<Figure size 576x360 with 1 Axes>"
      ]
     },
     "metadata": {
      "needs_background": "light"
     },
     "output_type": "display_data"
    }
   ],
   "source": [
    "#Bar Graph for the status_group of Water Pump\n",
    "data['permit'].value_counts(ascending=False).plot(kind='barh', color=['brown','green'],figsize=(8,5), )\n",
    "plt.title(\"Water Pump Status\", fontweight='bold', fontsize=18)\n",
    "plt.xlabel('Target',fontweight='bold',fontsize=10)\n",
    "plt.ylabel('Extraction Type Class',fontweight='bold',fontsize=10);"
   ]
  },
  {
   "cell_type": "code",
   "execution_count": 51,
   "metadata": {},
   "outputs": [
    {
     "data": {
      "image/png": "[encoded data removed]",
      "text/plain": [
       "<Figure size 360x360 with 1 Axes>"
      ]
     },
     "metadata": {
      "needs_background": "light"
     },
     "output_type": "display_data"
    }
   ],
   "source": [
    "# Permit and Target\n",
    "# Permit and Water Type\n",
    "\n",
    "sub_df = data.groupby('permit')['target'].value_counts(ascending=True).unstack()\n",
    "sub_df.plot(kind='bar', figsize=(5,5))\n",
    "plt.xlabel(\"Water Source (Basin)\", fontweight='bold')\n",
    "plt.xticks(rotation=45,fontweight='bold')\n",
    "plt.ylabel(\"Pump Functionality\\n\")\n",
    "plt.title('Functionality based on Permit'\n",
    "          , fontsize=14, fontweight='bold')\n",
    "plt.legend(bbox_to_anchor=(1.2, 1.0), title='Target');"
   ]
  },
  {
   "cell_type": "code",
   "execution_count": 52,
   "metadata": {},
   "outputs": [
    {
     "data": {
      "image/png": "[encoded data removed]",
      "text/plain": [
       "<Figure size 720x360 with 1 Axes>"
      ]
     },
     "metadata": {
      "needs_background": "light"
     },
     "output_type": "display_data"
    }
   ],
   "source": [
    "#Water Source based on permit\n",
    "source_df = data.groupby('water_quality')['permit'].value_counts(ascending=False).unstack()\n",
    "source_df.plot(kind='bar',figsize=(10,5))\n",
    "plt.xlabel(\"Water Source\")\n",
    "plt.xticks(rotation=0)\n",
    "plt.ylabel(\"Permit Value Counts\")\n",
    "plt.title('Water Quality Based on Permit', fontsize=14, fontweight='bold')\n",
    "plt.legend(bbox_to_anchor=(1.0, 1.0), title='Permit');"
   ]
  },
  {
   "cell_type": "code",
   "execution_count": 53,
   "metadata": {},
   "outputs": [],
   "source": [
    "knn_param = {\n",
    "  #  'pca__n_components': range(80, 120, 20),\n",
    "    # amount of neighbors\n",
    "    #'model__n_neighbors': range(1, 20, 2),\n",
    "    # leaf size\n",
    "    'model__leaf_size': range(1, 50, 5),\n",
    "    'model__weights': ['distance'],\n",
    "    'model__p': [2]\n",
    "}"
   ]
  },
  {
   "cell_type": "code",
   "execution_count": 54,
   "metadata": {
    "scrolled": false
   },
   "outputs": [
    {
     "name": "stdout",
     "output_type": "stream",
     "text": [
      "Fitting 3 folds for each of 10 candidates, totalling 30 fits\n"
     ]
    },
    {
     "name": "stderr",
     "output_type": "stream",
     "text": [
      "[Parallel(n_jobs=-1)]: Using backend LokyBackend with 4 concurrent workers.\n",
      "[Parallel(n_jobs=-1)]: Done  30 out of  30 | elapsed:  2.8min finished\n"
     ]
    },
    {
     "name": "stdout",
     "output_type": "stream",
     "text": [
      "Best parameter (CV score=0.780):\n",
      "{'model__leaf_size': 1, 'model__p': 2, 'model__weights': 'distance'}\n"
     ]
    }
   ],
   "source": [
    "from sklearn.neighbors import KNeighborsClassifier\n",
    "knn = { 'model': KNeighborsClassifier(), 'params': knn_param }\n",
    "\n",
    "knn_test_preds, knn_train_preds = fit_predict(knn, X_train, X_test, y_train, y_test)"
   ]
  },
  {
   "cell_type": "code",
   "execution_count": 55,
   "metadata": {},
   "outputs": [
    {
     "name": "stdout",
     "output_type": "stream",
     "text": [
      "Model: k-NN\n",
      "------------------------------------------------------------\n"
     ]
    },
    {
     "data": {
      "image/png": "[encoded data removed]",
      "text/plain": [
       "<Figure size 432x288 with 2 Axes>"
      ]
     },
     "metadata": {
      "needs_background": "light"
     },
     "output_type": "display_data"
    },
    {
     "name": "stdout",
     "output_type": "stream",
     "text": [
      "test accuracy: 0.7842222457851765\n",
      "train accuracy: 0.9994092251760963\n",
      "------------------------------------------------------------\n",
      "\n",
      "test report:\n",
      "              precision    recall  f1-score   support\n",
      "\n",
      "           0       0.78      0.79      0.79      4764\n",
      "           1       0.79      0.77      0.78      4667\n",
      "\n",
      "    accuracy                           0.78      9431\n",
      "   macro avg       0.78      0.78      0.78      9431\n",
      "weighted avg       0.78      0.78      0.78      9431\n",
      "\n",
      "~~~~~~~~~~~~~~~~~~~~~~~~~~~~~~~~~~~~~~~~~~~~~~~~~~~~~~~~~~~~\n",
      "\n",
      "train report:\n",
      "              precision    recall  f1-score   support\n",
      "\n",
      "           0       1.00      1.00      1.00     10954\n",
      "           1       1.00      1.00      1.00     11051\n",
      "\n",
      "    accuracy                           1.00     22005\n",
      "   macro avg       1.00      1.00      1.00     22005\n",
      "weighted avg       1.00      1.00      1.00     22005\n",
      "\n",
      "------------------------------------------------------------\n"
     ]
    }
   ],
   "source": [
    "metrics('k-NN', y_train, y_test, knn_train_preds, knn_test_preds)"
   ]
  },
  {
   "cell_type": "code",
   "execution_count": 56,
   "metadata": {},
   "outputs": [],
   "source": [
    "xgb_param = {\n",
    "  #  'pca__n_components': range(20, 60, 20),\n",
    "    'model__colsample_bytree': [1.0],\n",
    "    'model__eta': [.3, .2, .1, .05, .01, .005],\n",
    "    'model__max_depth': [10],\n",
    "    'model__min_child_weight': [6],\n",
    "    'model__subsample': [0.8]\n",
    "}"
   ]
  },
  {
   "cell_type": "code",
   "execution_count": 57,
   "metadata": {},
   "outputs": [
    {
     "name": "stdout",
     "output_type": "stream",
     "text": [
      "Fitting 3 folds for each of 6 candidates, totalling 18 fits\n"
     ]
    },
    {
     "name": "stderr",
     "output_type": "stream",
     "text": [
      "[Parallel(n_jobs=-1)]: Using backend LokyBackend with 4 concurrent workers.\n",
      "[Parallel(n_jobs=-1)]: Done  18 out of  18 | elapsed:  2.4min finished\n"
     ]
    },
    {
     "name": "stdout",
     "output_type": "stream",
     "text": [
      "Best parameter (CV score=0.799):\n",
      "{'model__colsample_bytree': 1.0, 'model__eta': 0.3, 'model__max_depth': 10, 'model__min_child_weight': 6, 'model__subsample': 0.8}\n"
     ]
    }
   ],
   "source": [
    "from xgboost import XGBClassifier\n",
    "\n",
    "xgb = { 'model': XGBClassifier(random_state=42), 'params': xgb_param }\n",
    "\n",
    "xgb_test_preds, xgb_train_preds = fit_predict(xgb, X_train, X_test, y_train, y_test)"
   ]
  },
  {
   "cell_type": "code",
   "execution_count": 58,
   "metadata": {},
   "outputs": [
    {
     "name": "stdout",
     "output_type": "stream",
     "text": [
      "Model: XGBoost\n",
      "------------------------------------------------------------\n"
     ]
    },
    {
     "data": {
      "image/png": "[encoded data removed]",
      "text/plain": [
       "<Figure size 432x288 with 2 Axes>"
      ]
     },
     "metadata": {
      "needs_background": "light"
     },
     "output_type": "display_data"
    },
    {
     "name": "stdout",
     "output_type": "stream",
     "text": [
      "test accuracy: 0.8090340366875198\n",
      "train accuracy: 0.8520336287207453\n",
      "------------------------------------------------------------\n",
      "\n",
      "test report:\n",
      "              precision    recall  f1-score   support\n",
      "\n",
      "           0       0.79      0.85      0.82      4764\n",
      "           1       0.83      0.77      0.80      4667\n",
      "\n",
      "    accuracy                           0.81      9431\n",
      "   macro avg       0.81      0.81      0.81      9431\n",
      "weighted avg       0.81      0.81      0.81      9431\n",
      "\n",
      "~~~~~~~~~~~~~~~~~~~~~~~~~~~~~~~~~~~~~~~~~~~~~~~~~~~~~~~~~~~~\n",
      "\n",
      "train report:\n",
      "              precision    recall  f1-score   support\n",
      "\n",
      "           0       0.83      0.89      0.86     10954\n",
      "           1       0.88      0.81      0.85     11051\n",
      "\n",
      "    accuracy                           0.85     22005\n",
      "   macro avg       0.85      0.85      0.85     22005\n",
      "weighted avg       0.85      0.85      0.85     22005\n",
      "\n",
      "------------------------------------------------------------\n"
     ]
    }
   ],
   "source": [
    "metrics('XGBoost', y_train, y_test, xgb_train_preds, xgb_test_preds)"
   ]
  },
  {
   "cell_type": "code",
   "execution_count": 62,
   "metadata": {},
   "outputs": [],
   "source": [
    "from sklearn.tree import DecisionTreeClassifier\n",
    "from sklearn.ensemble import BaggingClassifier, RandomForestClassifier\n",
    "\n",
    "\n",
    "#forest_params = {'model__n_estimators': [1000], 'model__criterion':['gini','entropy'], 'model__max_depth':[10],\n",
    "              #            'model__min_samples_split':[10], 'model__min_samples_leaf':[2]}\n",
    "\n",
    "forest_params = {'model__n_estimators' : [1000], 'model__criterion' : ['gini','entropy'], \n",
    "                                'model__max_depth': [10], 'model__min_samples_split' : [10], \n",
    "                                 'model__min_samples_leaf' : [5]}\n"
   ]
  },
  {
   "cell_type": "code",
   "execution_count": 63,
   "metadata": {},
   "outputs": [
    {
     "name": "stdout",
     "output_type": "stream",
     "text": [
      "Fitting 3 folds for each of 2 candidates, totalling 6 fits\n"
     ]
    },
    {
     "name": "stderr",
     "output_type": "stream",
     "text": [
      "[Parallel(n_jobs=-1)]: Using backend LokyBackend with 4 concurrent workers.\n",
      "[Parallel(n_jobs=-1)]: Done   3 out of   6 | elapsed:   18.1s remaining:   18.1s\n",
      "[Parallel(n_jobs=-1)]: Done   6 out of   6 | elapsed:   27.1s finished\n"
     ]
    },
    {
     "name": "stdout",
     "output_type": "stream",
     "text": [
      "Best parameter (CV score=0.728):\n",
      "{'model__criterion': 'gini', 'model__max_depth': 10, 'model__min_samples_leaf': 5, 'model__min_samples_split': 10, 'model__n_estimators': 1000}\n"
     ]
    }
   ],
   "source": [
    "rfc = { 'model': RandomForestClassifier(random_state=42), 'params': forest_params }\n",
    "\n",
    "rfc_test_preds, rfc_train_preds = fit_predict(rfc, X_train, X_test, y_train, y_test)"
   ]
  },
  {
   "cell_type": "code",
   "execution_count": 64,
   "metadata": {},
   "outputs": [
    {
     "name": "stdout",
     "output_type": "stream",
     "text": [
      "Model: RandomForest\n",
      "------------------------------------------------------------\n"
     ]
    },
    {
     "data": {
      "image/png": "[encoded data removed]",
      "text/plain": [
       "<Figure size 432x288 with 2 Axes>"
      ]
     },
     "metadata": {
      "needs_background": "light"
     },
     "output_type": "display_data"
    },
    {
     "name": "stdout",
     "output_type": "stream",
     "text": [
      "test accuracy: 0.7282366663132224\n",
      "train accuracy: 0.7307884571688252\n",
      "------------------------------------------------------------\n",
      "\n",
      "test report:\n",
      "              precision    recall  f1-score   support\n",
      "\n",
      "           0       0.71      0.78      0.74      4764\n",
      "           1       0.75      0.67      0.71      4667\n",
      "\n",
      "    accuracy                           0.73      9431\n",
      "   macro avg       0.73      0.73      0.73      9431\n",
      "weighted avg       0.73      0.73      0.73      9431\n",
      "\n",
      "~~~~~~~~~~~~~~~~~~~~~~~~~~~~~~~~~~~~~~~~~~~~~~~~~~~~~~~~~~~~\n",
      "\n",
      "train report:\n",
      "              precision    recall  f1-score   support\n",
      "\n",
      "           0       0.71      0.79      0.74     10954\n",
      "           1       0.76      0.68      0.72     11051\n",
      "\n",
      "    accuracy                           0.73     22005\n",
      "   macro avg       0.73      0.73      0.73     22005\n",
      "weighted avg       0.73      0.73      0.73     22005\n",
      "\n",
      "------------------------------------------------------------\n"
     ]
    }
   ],
   "source": [
    "metrics('RandomForest', y_train, y_test, rfc_train_preds, rfc_test_preds)"
   ]
  },
  {
   "cell_type": "code",
   "execution_count": 67,
   "metadata": {},
   "outputs": [
    {
     "data": {
      "image/png": "[encoded data removed]",
      "text/plain": [
       "<Figure size 720x360 with 1 Axes>"
      ]
     },
     "metadata": {
      "needs_background": "light"
     },
     "output_type": "display_data"
    }
   ],
   "source": [
    "source_df = data.groupby('management')['target'].value_counts(ascending=False).unstack()\n",
    "source_df.plot(kind='bar', figsize=(10,5))\n",
    "plt.xlabel(\"Management\")\n",
    "plt.xticks(rotation=45)\n",
    "plt.ylabel(\"Counts\")\n",
    "plt.title('Management', fontsize=14, fontweight='bold')\n",
    "plt.legend(bbox_to_anchor=(1.0, 1.0), title='Target');"
   ]
  },
  {
   "cell_type": "code",
   "execution_count": 69,
   "metadata": {},
   "outputs": [],
   "source": [
    "# source_df = data.groupby('installer')['target'].value_counts(ascending=False).unstack()\n",
    "# source_df.plot(kind='bar', figsize=(10,5))\n",
    "# plt.xlabel(\"Management\")\n",
    "# plt.xticks(rotation=45)\n",
    "# plt.ylabel(\"Counts\")\n",
    "# plt.title('Management', fontsize=14, fontweight='bold')\n",
    "# plt.legend(bbox_to_anchor=(1.0, 1.0), title='Target');"
   ]
  },
  {
   "cell_type": "code",
   "execution_count": null,
   "metadata": {},
   "outputs": [],
   "source": []
  }
 ],
 "metadata": {
  "kernelspec": {
   "display_name": "Python [conda env:learn-env] *",
   "language": "python",
   "name": "conda-env-learn-env-py"
  },
  "language_info": {
   "codemirror_mode": {
    "name": "ipython",
    "version": 3
   },
   "file_extension": ".py",
   "mimetype": "text/x-python",
   "name": "python",
   "nbconvert_exporter": "python",
   "pygments_lexer": "ipython3",
   "version": "3.6.10"
  },
  "toc": {
   "base_numbering": 1,
   "nav_menu": {},
   "number_sections": true,
   "sideBar": true,
   "skip_h1_title": false,
   "title_cell": "Table of Contents",
   "title_sidebar": "Contents",
   "toc_cell": true,
   "toc_position": {},
   "toc_section_display": true,
   "toc_window_display": false
  },
  "varInspector": {
   "cols": {
    "lenName": 16,
    "lenType": 16,
    "lenVar": 40
   },
   "kernels_config": {
    "python": {
     "delete_cmd_postfix": "",
     "delete_cmd_prefix": "del ",
     "library": "var_list.py",
     "varRefreshCmd": "print(var_dic_list())"
    },
    "r": {
     "delete_cmd_postfix": ") ",
     "delete_cmd_prefix": "rm(",
     "library": "var_list.r",
     "varRefreshCmd": "cat(var_dic_list()) "
    }
   },
   "types_to_exclude": [
    "module",
    "function",
    "builtin_function_or_method",
    "instance",
    "_Feature"
   ],
   "window_display": false
  }
 },
 "nbformat": 4,
 "nbformat_minor": 2
}
